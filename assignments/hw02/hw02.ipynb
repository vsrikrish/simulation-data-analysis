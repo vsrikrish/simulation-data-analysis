{
  "cells": [
    {
      "cell_type": "markdown",
      "metadata": {},
      "source": [
        "# Homework 2: Probability Models\n",
        "\n",
        "BEE 4850/5850, Fall 2024\n",
        "\n",
        "**Name**:\n",
        "\n",
        "**ID**:\n",
        "\n",
        "> **Due Date**\n",
        ">\n",
        "> Friday, 2/23/24, 9:00pm\n",
        "\n",
        "## Overview"
      ],
      "id": "5de25b28-2684-46c4-bc11-92d43c1d85a6"
    },
    {
      "cell_type": "markdown",
      "metadata": {},
      "source": [
        "### Instructions\n",
        "\n",
        "The goal of this homework assignment is to practice developing and\n",
        "working with probability models for data.\n",
        "\n",
        "-   Problem 1 asks you to fit a sea-level rise model using normal\n",
        "    residuals and to assess the validity of that assumption.\n",
        "-   Problem 2 asks you to model the time series of hourly\n",
        "    weather-related variability at a tide gauge.\n",
        "-   Problem 3 asks you to model the occurrences of Cayuga Lake freezing,\n",
        "    and is only slightly adapted from Example 4.1 in [Statistical\n",
        "    Methods in the Atmospheric\n",
        "    Sciences](https://www.sciencedirect.com/book/9780128158234/statistical-methods-in-the-atmospheric-sciences)\n",
        "    by Daniel Wilks.\n",
        "-   Problem 4 (**graded only for graduate students**) asks you to\n",
        "    revisit the sea-level model in Problem 1 by including a model-data\n",
        "    discrepancy term in the model calibration."
      ],
      "id": "5b2b18a5-755f-4e8f-8df6-fb5dbc05eade"
    },
    {
      "cell_type": "markdown",
      "metadata": {},
      "source": [
        "### Learning Outcomes\n",
        "\n",
        "After completing this assignments, students will be able to:\n",
        "\n",
        "-   develop probability models for data and model residuals under a\n",
        "    variety of statistical assumptions;\n",
        "-   evaluate the appropriateness of those assumptions through the use of\n",
        "    qualitative and quantitative evaluations of goodness-of-fit;\n",
        "-   fit a basic Bayesian model to data."
      ],
      "id": "24f106cb-9dd4-4d86-bb0f-d85faec186da"
    },
    {
      "cell_type": "markdown",
      "metadata": {},
      "source": [
        "### Load Environment\n",
        "\n",
        "The following code loads the environment and makes sure all needed\n",
        "packages are installed. This should be at the start of most Julia\n",
        "scripts."
      ],
      "id": "55f941d7-fab8-4dc2-925e-9718d405e72c"
    },
    {
      "cell_type": "code",
      "execution_count": 1,
      "metadata": {},
      "outputs": [],
      "source": [
        "import Pkg\n",
        "Pkg.activate(@__DIR__)\n",
        "Pkg.instantiate()"
      ],
      "id": "715bddd4"
    },
    {
      "cell_type": "markdown",
      "metadata": {},
      "source": [
        "The following packages are included in the environment (to help you find\n",
        "other similar packages in other languages). The code below loads these\n",
        "packages for use in the subsequent notebook (the desired functionality\n",
        "for each package is commented next to the package)."
      ],
      "id": "7e657e37-ae62-4e53-9e7b-71109c6b4305"
    },
    {
      "cell_type": "code",
      "execution_count": 2,
      "metadata": {},
      "outputs": [],
      "source": [
        "using Random # random number generation and seed-setting\n",
        "using DataFrames # tabular data structure\n",
        "using CSVFiles # reads/writes .csv files\n",
        "using Distributions # interface to work with probability distributions\n",
        "using Plots # plotting library\n",
        "using StatsBase # statistical quantities like mean, median, etc\n",
        "using StatsPlots # some additional statistical plotting tools\n",
        "using Optim # optimization tools"
      ],
      "id": "6a68da67"
    },
    {
      "cell_type": "markdown",
      "metadata": {},
      "source": [
        "## Problems (Total: 30 Points for 4850; 40 for 5850)\n",
        "\n",
        "### Problem 1"
      ],
      "id": "51cdcc14-9257-459c-80dc-ef1926dcdc4e"
    },
    {
      "cell_type": "markdown",
      "metadata": {},
      "source": [
        "Consider the following sea-level rise model from [Rahmstorf\n",
        "(2007)](https://doi.org/10.1073/pnas.0907765106):\n",
        "\n",
        "$$\\frac{dH(t)}{dt} = \\alpha (T(t) - T_0),$$ where $T_0$ is the\n",
        "temperature (in $^\\circ C$) where sea-level is in equilibrium\n",
        "($dH/dt = 0$), and $\\alpha$ is the sea-level rise sensitivity to\n",
        "temperature. Discretizing this equation using the Euler method and using\n",
        "an annual timestep ($\\delta t = 1$), we get\n",
        "$$H(t+1) = H(t) + \\alpha (T(t) - T_0).$$\n",
        "\n",
        "**In this problem**:\n",
        "\n",
        "-   Load the data from the `data/` folder\n",
        "    -   Global mean temperature data from the HadCRUT 5.0.2.0 dataset\n",
        "        (<https://hadobs.metoffice.gov.uk/hadcrut5/data/HadCRUT.5.0.2.0/download.html>)\n",
        "        can be found in\n",
        "        `data/HadCRUT.5.0.2.0.analysis.summary_series.global.annual.csv`.\n",
        "        This data is averaged over the Northern and Southern Hemispheres\n",
        "        and over the whole year.\n",
        "    -   Global mean sea level anomalies (relative to the 1990 mean\n",
        "        global sea level) are in `data/CSIRO_Recons_gmsl_yr_2015.csv`,\n",
        "        courtesy of CSIRO\n",
        "        (<https://www.cmar.csiro.au/sealevel/sl_data_cmar.html>).\n",
        "-   Fit the model under the assumption of normal i.i.d. residuals by\n",
        "    maximizing the likelihood and report the parameter estimates. Note\n",
        "    that you will need another parameter $H_0$ for the initial sea\n",
        "    level. What can you conclude about the relationship between global\n",
        "    mean temperature increases and global mean sea level rise?\n",
        "-   How appropriate was the normal i.i.d. probability model for the\n",
        "    residuals? Use any needed quantitative or qualitative assessments of\n",
        "    goodness of fit to justify your answer. If this was not an\n",
        "    appropriate probability model, what would you change?"
      ],
      "id": "0edb819b-bfd5-4885-aad4-f7fd1e99fe11"
    },
    {
      "cell_type": "markdown",
      "metadata": {},
      "source": [
        "### Problem 2"
      ],
      "id": "56091528-8859-4848-8e37-93ec41de130f"
    },
    {
      "cell_type": "markdown",
      "metadata": {},
      "source": [
        "Tide gauge data is complicated to analyze because it is influenced by\n",
        "different harmonic processes (such as the linear cycle). In this\n",
        "problem, we will develop a model for this data using [NOAA data from the\n",
        "Sewell’s Point tide\n",
        "gauge](https://tidesandcurrents.noaa.gov/waterlevels.html?id=8638610)\n",
        "outside of Norfolk, VA from `data/norfolk-hourly-surge-2015.csv`. This\n",
        "is hourly data (in m) from 2015 and includes both the observed data\n",
        "(`Verified (m)`) and the tide level predicted by NOAA’s sinusoidal model\n",
        "for periodic variability, such as tides and other seasonal cycles\n",
        "(`Predicted (m)`).\n",
        "\n",
        "**In this problem**: \\* Load the data file. Take the difference between\n",
        "the observations and the sinusoidal predictions to obtain the tide level\n",
        "which could be attributed to weather-related variability (since for one\n",
        "year sea-level rise and other factors are unlikely to matter). Plot this\n",
        "data. \\* Develop an autoregressive model for the weather-related\n",
        "variability in the Norfolk tide gauge. Make sure to include your logic\n",
        "or exploratory analysis used in determining the model specification. \\*\n",
        "Use your model to simulate 1,000 realizations of hourly tide gauge\n",
        "observations. What is the distribution of the maximum tide level? How\n",
        "does this compare to the observed value?"
      ],
      "id": "e5a407e1-b2c2-4d11-b818-33a26890d91d"
    },
    {
      "cell_type": "markdown",
      "metadata": {},
      "source": [
        "## Problem 3"
      ],
      "id": "7ab3a0ea-8476-4702-9987-73424402eb2a"
    },
    {
      "cell_type": "markdown",
      "metadata": {},
      "source": [
        "As of 2010, Cayuga Lake has frozen in the following years: 1796, 1816,\n",
        "1856, 1875, 1884, 1904, 1912, 1934, 1961, and 1979. Based on this data,\n",
        "we would like to project whether Cayuga Lake is likely to freeze again\n",
        "in the next 25 years.\n",
        "\n",
        "**In this problem**:\n",
        "\n",
        "-   Assuming that observations began in 1780, write down a Bayesian\n",
        "    model for whether Cayuga Lake will freeze in a given year, using a\n",
        "    Bernoulli distribution. How did you select what prior to use?\n",
        "-   Find the maximum *a posteriori* estimate using your model.\n",
        "-   Generate 1,000 realizations of Cayuga Lake freezing occurrences from\n",
        "    1780 to 2010 and check the simulations against the occurrance data.\n",
        "-   Using your model, calculate the probability of Cayuga Lake freezing\n",
        "    at least once in the next 10 years.\n",
        "-   What do you think about the validity of your model, both in terms of\n",
        "    its ability to reproduce historical data and its use to make future\n",
        "    projections? Why might you believe or discount it? What changes\n",
        "    might you make (include thoughts about the prior)?"
      ],
      "id": "a2ba72f0-92c2-45c5-88dd-a3edf46b23b0"
    },
    {
      "cell_type": "markdown",
      "metadata": {},
      "source": [
        "### Problem 4\n",
        "\n",
        "<span style=\"color:red;\">GRADED FOR 5850 STUDENTS ONLY</span>\n",
        "\n",
        "For the sea-level model in Problem 1, model the model-data discrepancy\n",
        "using an AR(1) process, with observation error modeled as normally\n",
        "distributed with standard deviation given by the uncertainty column in\n",
        "the data file.\n",
        "\n",
        "**In this problem**:\n",
        "\n",
        "-   Find the maximum likelihood estimate of the parameters with this\n",
        "    discrepancy structure. How does the parameter inference change from\n",
        "    the normal i.i.d. estimate in Problem 1?\n",
        "-   Generate 1,000 traces, plot a comparison of the hindcasts to those\n",
        "    from Problem 1, and compare the surprise indices.\n",
        "-   Determine whether you have accounted for autocorrelation in the\n",
        "    residuals appropriately (hint: generate realizations of just the\n",
        "    discrepancy series, compute the resulting residuals from the model\n",
        "    fit + discrepancy, and look at the distribution of autocorrelation\n",
        "    values).\n",
        "-   Which model specification would you prefer and why?\n",
        "\n",
        ":::"
      ],
      "id": "fcfd6bc6-0458-4b08-b5e5-3fa9175f8e59"
    }
  ],
  "nbformat": 4,
  "nbformat_minor": 5,
  "metadata": {
    "kernelspec": {
      "name": "julia-1.9",
      "display_name": "Julia 1.9.4",
      "language": "julia"
    },
    "language_info": {
      "name": "julia",
      "file_extension": ".jl",
      "mimetype": "application/julia",
      "version": "1.9.4"
    }
  }
}