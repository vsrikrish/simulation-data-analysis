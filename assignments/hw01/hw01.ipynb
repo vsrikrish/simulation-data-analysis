{
  "cells": [
    {
      "cell_type": "markdown",
      "metadata": {},
      "source": [
        "# Homework 1\n",
        "\n",
        "**Name**:\n",
        "\n",
        "**ID**:\n",
        "\n",
        "> **Due Date**\n",
        ">\n",
        "> Friday, 2/9/24, 9:00pm\n",
        "\n",
        "## Overview\n",
        "\n",
        "### Instructions\n",
        "\n",
        "-   Problems 1-4 consist of a series of code snippets for you to\n",
        "    interpret and debug. For Problems 1-3, you will be asked to identify\n",
        "    relevant error(s) and fix the code. For Problem 4, the code works as\n",
        "    intended; your goal is to identify the code’s purpose by following\n",
        "    its logic.\n",
        "-   Problem 5 asks you to rewrite a “script” into a function, which you\n",
        "    will then use to conduct an experiment.\n",
        "\n",
        "### Load Environment\n",
        "\n",
        "The following code loads the environment and makes sure all needed\n",
        "packages are installed. This should be at the start of most Julia\n",
        "scripts."
      ],
      "id": "552958ec-7d33-42bb-b702-ba39a3ba1a30"
    },
    {
      "cell_type": "code",
      "execution_count": 1,
      "metadata": {},
      "outputs": [
        {
          "output_type": "stream",
          "name": "stderr",
          "text": [
            "  Activating project at `~/work/simulation-data-analysis/simulation-data-analysis/assignments/hw01`"
          ]
        }
      ],
      "source": [
        "import Pkg\n",
        "Pkg.activate(@__DIR__)\n",
        "Pkg.instantiate()"
      ],
      "id": "f666cf10"
    },
    {
      "cell_type": "markdown",
      "metadata": {},
      "source": [
        "## Problems (Total: 100 Points)\n",
        "\n",
        "### Problem 1 (20 points)\n",
        "\n",
        "You’ve been tasked with writing code to identify the minimum value in an\n",
        "array. You cannot use a predefined function. Your colleague suggested\n",
        "the function below, but it does not return the minimum value."
      ],
      "id": "89d9a0e1-0e23-4e29-9f0f-ad96c13532da"
    },
    {
      "cell_type": "code",
      "execution_count": 2,
      "metadata": {},
      "outputs": [
        {
          "output_type": "stream",
          "name": "stdout",
          "text": [
            "minimum(array_values) = 0"
          ]
        }
      ],
      "source": [
        "function minimum(array)\n",
        "    min_value = 0\n",
        "    for i in 1:length(array)\n",
        "        if array[i] < min_value\n",
        "            min_value = array[i]\n",
        "        end\n",
        "    end\n",
        "    return min_value\n",
        "end\n",
        "\n",
        "array_values = [89, 90, 95, 100, 100, 78, 99, 98, 100, 95]\n",
        "@show minimum(array_values);"
      ],
      "id": "c45acb3b"
    },
    {
      "cell_type": "markdown",
      "metadata": {},
      "source": [
        "#### Problem 1.1 (10 points)\n",
        "\n",
        "Describe the logic error.\n",
        "\n",
        "#### Problem 1.2 (5 points)\n",
        "\n",
        "Write a fixed version of the function.\n",
        "\n",
        "#### Problem 1.3 (5 points)\n",
        "\n",
        "Use your fixed function to find the minimum value of `array_values`.\n",
        "\n",
        "### Problem 2 (20 points)\n",
        "\n",
        "Your team is trying to compute the average grade for your class, but the\n",
        "following code produces an error."
      ],
      "id": "58187a39-866b-49e0-b3cb-364c1507364d"
    },
    {
      "cell_type": "code",
      "execution_count": 3,
      "metadata": {},
      "outputs": [],
      "source": [
        "student_grades = [89, 90, 95, 100, 100, 78, 99, 98, 100, 95]\n",
        "function class_average(grades)\n",
        "  average_grade = mean(student_grades)\n",
        "  return average_grade\n",
        "end\n",
        "\n",
        "@show average_grade;"
      ],
      "id": "7176dabe"
    },
    {
      "cell_type": "markdown",
      "metadata": {},
      "source": [
        "#### Problem 2.1 (10 points)\n",
        "\n",
        "Describe the logic and/or syntax error.\n",
        "\n",
        "#### Problem 2.2 (5 points)\n",
        "\n",
        "Write a fixed version of the code.\n",
        "\n",
        "#### Problem 2.3 (5 points)\n",
        "\n",
        "Use your fixed code to compute the average grade for the class.\n",
        "\n",
        "### Problem 3 (20 points)\n",
        "\n",
        "Your team has collected data on the mileage of different car models. You\n",
        "want to calculate the average mileage per gallon (MPG) for the different\n",
        "cars, but your code produces the same value for all of the vehicles,\n",
        "which makes you suspicious."
      ],
      "id": "a5814a9d-0938-4879-927e-ac294c5e9184"
    },
    {
      "cell_type": "code",
      "execution_count": 4,
      "metadata": {},
      "outputs": [
        {
          "output_type": "stream",
          "name": "stdout",
          "text": [
            "mpg = [30.363636363636363, 30.363636363636363, 30.363636363636363, 30.363636363636363, 30.363636363636363, 30.363636363636363]"
          ]
        }
      ],
      "source": [
        "function calculate_MPG((miles, gallons))\n",
        "    return miles / gallons\n",
        "end\n",
        "\n",
        "car_miles =  [(334, 11), (289, 15), (306, 12), (303, 20), (350, 20), (294, 14)]\n",
        "\n",
        "mpg = zeros(length(car_miles))\n",
        "\n",
        "for i in 1:length(car_miles)\n",
        "    miles = car_miles[1][1]\n",
        "    gallon = car_miles[1][2]\n",
        "    mpg[i] = calculate_MPG((miles, gallon))\n",
        "end\n",
        "@show mpg;"
      ],
      "id": "704d3c8b"
    },
    {
      "cell_type": "markdown",
      "metadata": {},
      "source": [
        "#### Problem 3.1 (10 points)\n",
        "\n",
        "Describe the logic error.\n",
        "\n",
        "#### Problem 3.2 (5 points)\n",
        "\n",
        "Write a fixed version of the code.\n",
        "\n",
        "#### Problem 3.3 (5 points)\n",
        "\n",
        "Use your fixed code to compute the MPGs.\n",
        "\n",
        "### Problem 4 (20 points)\n",
        "\n",
        "You’ve been handed some code to analyze. The original coder was not very\n",
        "considerate of other potential users: the function is called\n",
        "`mystery_function` and there are no comments explaining the purpose of\n",
        "the code. It appears to take in an array and return some numbers, and\n",
        "you’ve been assured that the code works as intended."
      ],
      "id": "238248fd-9d94-4057-9d62-56ce53d81f71"
    },
    {
      "cell_type": "code",
      "execution_count": 5,
      "metadata": {},
      "outputs": [
        {
          "output_type": "stream",
          "name": "stdout",
          "text": [
            "mystery_function(list_of_values) = Any[1, 2, 3, 4]"
          ]
        }
      ],
      "source": [
        "function mystery_function(values)\n",
        "    y = []\n",
        "    for v in values\n",
        "        if !(v in y)\n",
        "            append!(y, v)\n",
        "        end\n",
        "    end\n",
        "    return y\n",
        "end\n",
        "\n",
        "list_of_values = [1, 2, 3, 4, 3, 4, 2, 1]\n",
        "@show mystery_function(list_of_values);"
      ],
      "id": "5597e025"
    },
    {
      "cell_type": "markdown",
      "metadata": {},
      "source": [
        "#### Problem 4.1 (10 points)\n",
        "\n",
        "Explain the purpose of `mystery_function`.\n",
        "\n",
        "#### Problem 4.2 (10 points)\n",
        "\n",
        "Add comments to the code, explaining why and how it works. Refer to\n",
        "[“Best Practices for Writing Code\n",
        "Comments”](https://stackoverflow.blog/2021/12/23/best-practices-for-writing-code-comments/),\n",
        "and remember that bad comments can be just as bad as no comments at all.\n",
        "You do not need to add comments to every line (in fact, this is very bad\n",
        "practice), but you should note the *purpose* of every “section” of code,\n",
        "and add comments explaining any code sequences that you don’t\n",
        "immediately understand."
      ],
      "id": "9d7970f5-32f9-40af-b513-50774972010d"
    }
  ],
  "nbformat": 4,
  "nbformat_minor": 5,
  "metadata": {
    "kernelspec": {
      "name": "julia-1.8",
      "display_name": "Julia 1.8.3",
      "language": "julia"
    },
    "language_info": {
      "name": "julia",
      "file_extension": ".jl",
      "mimetype": "application/julia",
      "version": "1.8.3"
    }
  }
}