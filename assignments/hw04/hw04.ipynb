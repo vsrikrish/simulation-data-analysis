{
  "cells": [
    {
      "cell_type": "markdown",
      "metadata": {},
      "source": [
        "# Homework 4: Probabilistic Calibration and Model Selection\n",
        "\n",
        "BEE 4850/5850, Fall 2024\n",
        "\n",
        "**Name**:\n",
        "\n",
        "**ID**:\n",
        "\n",
        "> **Due Date**\n",
        ">\n",
        "> Friday, 5/03/24, 9:00pm\n",
        "\n",
        "## Overview"
      ],
      "id": "8d841ce7-e35c-4771-9d8a-df1a82093a8d"
    },
    {
      "cell_type": "markdown",
      "metadata": {},
      "source": [
        "### Instructions\n",
        "\n",
        "The goal of this homework assignment is to practice probabilistic model\n",
        "calibration and using the resulting distributions for model evaluation\n",
        "and selection.\n",
        "\n",
        "### Learning Outcomes\n",
        "\n",
        "After completing this assignments, students will be able to:\n",
        "\n",
        "-   quantify uncertainty in model parameters with probabilistic\n",
        "    programming.\n",
        "-   use information criteria to assess the relative evidence for models.\n",
        "\n",
        "### Load Environment\n",
        "\n",
        "The following code loads the environment and makes sure all needed\n",
        "packages are installed. This should be at the start of most Julia\n",
        "scripts."
      ],
      "id": "06e284e8-7e7b-44ce-a54f-c551ba07c6d8"
    },
    {
      "cell_type": "code",
      "execution_count": 1,
      "metadata": {},
      "outputs": [],
      "source": [
        "import Pkg\n",
        "Pkg.activate(@__DIR__)\n",
        "Pkg.instantiate()"
      ],
      "id": "ccc96c0c"
    },
    {
      "cell_type": "markdown",
      "metadata": {},
      "source": [
        "The following packages are included in the environment (to help you find\n",
        "other similar packages in other languages). The code below loads these\n",
        "packages for use in the subsequent notebook (the desired functionality\n",
        "for each package is commented next to the package)."
      ],
      "id": "c8b20ced-511c-46fe-b899-a5d826953812"
    },
    {
      "cell_type": "code",
      "execution_count": 2,
      "metadata": {},
      "outputs": [],
      "source": [
        "using Random # random number generation and seed-setting\n",
        "using DataFrames # tabular data structure\n",
        "using DataFramesMeta # API which can simplify chains of DataFrames transformations\n",
        "using CSVFiles # reads/writes .csv files\n",
        "using Distributions # interface to work with probability distributions\n",
        "using Plots # plotting library\n",
        "using StatsBase # statistical quantities like mean, median, etc\n",
        "using StatsPlots # some additional statistical plotting tools"
      ],
      "id": "f5528329"
    },
    {
      "cell_type": "markdown",
      "metadata": {},
      "source": [
        "## Problems (Total: 30 Points)\n",
        "\n",
        "### Problem 1\n",
        "\n",
        "This problem is the same as the MCMC Lab from earlier in this semester.\n",
        "\n",
        "You will use a probabilistic programming language to fit a linear model\n",
        "for monthly mean tide gauge data from the [Sewell’s Point, VA tide\n",
        "gauge](https://tidesandcurrents.noaa.gov/waterlevels.html?id=8638610)\n",
        "from 1927 through 2022, obtained from the [Permanent Service for Mean\n",
        "Sea Level](https://psmsl.org/data/obtaining/stations/299.php). The data\n",
        "(in `data/norfolk-monthly-tide-data.txt`) has been slightly cleaned by\n",
        "setting dates to the `yyyy-mm` format. We’ve left missing values as\n",
        "`-99999`; make sure to fix those as appropriate for your programming\n",
        "language."
      ],
      "id": "a7601e45-4330-42bd-9b46-15ceb5ac0b04"
    },
    {
      "cell_type": "code",
      "execution_count": 3,
      "metadata": {},
      "outputs": [],
      "source": [
        "tide_dat = CSV.read(\"data/norfolk-monthly-tide-data.txt\", DataFrame)\n",
        "# replace -99999 with missing\n",
        "tide_dat.gauge = ifelse.(tide_dat.gauge .== -99999, missing, tide_dat.gauge)"
      ],
      "id": "3ffa8b0e"
    },
    {
      "cell_type": "markdown",
      "metadata": {},
      "source": [
        "Now let’s plot the data."
      ],
      "id": "ab5387a6-1825-45c9-95c9-d4e457cb7bb6"
    },
    {
      "cell_type": "code",
      "execution_count": 4,
      "metadata": {},
      "outputs": [],
      "source": [
        "p = scatter(tide_dat.datetime, tide_dat.gauge, xlabel=\"Month\", ylabel=\"Monthly Mean Sea Level (mm)\", legend=false)\n",
        "display(p)"
      ],
      "id": "48d11a4d"
    },
    {
      "cell_type": "markdown",
      "metadata": {},
      "source": [
        "We would like to quantify the uncertainty in the time-trend of this\n",
        "local sea level increase (which includes global mean sea level rise but\n",
        "also more local effects, such as subsidence). The plot in looks roughly\n",
        "linear, so let’s use the following model (assuming the errors are\n",
        "independent and identically-distributed for simplicity):\n",
        "\n",
        "**In this problem**:\n",
        "\n",
        "-   Write a model for the linear regression above in the probabilistic\n",
        "    programming language of your choice. You’ll need to pick some priors\n",
        "    for $\\alpha$, $\\beta$, and $\\sigma$.\n",
        "-   Sample from the posterior with four chains (for convergence\n",
        "    diagnostics).\n",
        "-   Evaluate convergence. How many iterations did you use? What is the\n",
        "    effective sample size?\n",
        "-   Plot the posterior distributions. In particular, we are interested\n",
        "    in uncertainty in the $\\beta$ coefficient, which reflects the mean\n",
        "    increase in sea-level rise over time in mm/months.\n",
        "-   Generate hindcasts by sampling from the posterior distribution and\n",
        "    simulating data. If you plot the 95% posterior predictive\n",
        "    distribution and the data, how does it look?\n",
        "\n",
        "### Problem 2\n",
        "\n",
        "Building on Problem 1, suppose we wanted to examine if the increase in\n",
        "sea level at Norfolk was quadratic instead of linear.\n",
        "\n",
        "**In this problem**:\n",
        "\n",
        "-   Fit a quadratic model (with the same error structure) to the same\n",
        "    data. What are the estimates?\n",
        "-   Plot the linear and quadratic fits along with the data. Do you\n",
        "    visually see any differences?\n",
        "-   Compute the log-posterior, AIC, and DIC for each model. Based on\n",
        "    these metrics, what would you conclude about the relative evidence\n",
        "    for each model? What are your conclusions about whether the sea\n",
        "    level trend is linear or quadratic?"
      ],
      "id": "8fb07928-3a22-4fea-a5b3-642b2aa0dad3"
    }
  ],
  "nbformat": 4,
  "nbformat_minor": 5,
  "metadata": {
    "kernelspec": {
      "name": "julia-1.9",
      "display_name": "Julia 1.9.4",
      "language": "julia"
    },
    "language_info": {
      "name": "julia",
      "file_extension": ".jl",
      "mimetype": "application/julia",
      "version": "1.9.4"
    }
  }
}