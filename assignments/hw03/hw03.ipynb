{
  "cells": [
    {
      "cell_type": "markdown",
      "metadata": {},
      "source": [
        "# Homework 3: Bayesian and Extreme Value Statistics\n",
        "\n",
        "BEE 4850/5850, Fall 2024\n",
        "\n",
        "**Name**:\n",
        "\n",
        "**ID**:\n",
        "\n",
        "> **Due Date**\n",
        ">\n",
        "> Friday, 3/22/24, 9:00pm\n",
        "\n",
        "## Overview"
      ],
      "id": "7c56354e-675d-4a05-af2f-933d0bf05c1c"
    },
    {
      "cell_type": "markdown",
      "metadata": {},
      "source": [
        "### Instructions\n",
        "\n",
        "The goal of this homework assignment is to practice developing and\n",
        "working with probability models for data."
      ],
      "id": "8d213faa-2ee8-4a35-8046-7b8ab96853d5"
    },
    {
      "cell_type": "markdown",
      "metadata": {},
      "source": [
        "### Learning Outcomes\n",
        "\n",
        "After completing this assignments, students will be able to:\n",
        "\n",
        "-   develop probability models for data and model residuals under a\n",
        "    variety of statistical assumptions;\n",
        "-   evaluate the appropriateness of those assumptions through the use of\n",
        "    qualitative and quantitative evaluations of goodness-of-fit;\n",
        "-   fit a basic Bayesian model to data."
      ],
      "id": "044ae09d-fec5-43de-864d-2388952ff811"
    },
    {
      "cell_type": "markdown",
      "metadata": {},
      "source": [
        "### Load Environment\n",
        "\n",
        "The following code loads the environment and makes sure all needed\n",
        "packages are installed. This should be at the start of most Julia\n",
        "scripts."
      ],
      "id": "02091f19-5041-4d2a-a240-cfdfcce861bf"
    },
    {
      "cell_type": "code",
      "execution_count": 1,
      "metadata": {},
      "outputs": [],
      "source": [
        "import Pkg\n",
        "Pkg.activate(@__DIR__)\n",
        "Pkg.instantiate()"
      ],
      "id": "8f1ebe9c"
    },
    {
      "cell_type": "markdown",
      "metadata": {},
      "source": [
        "The following packages are included in the environment (to help you find\n",
        "other similar packages in other languages). The code below loads these\n",
        "packages for use in the subsequent notebook (the desired functionality\n",
        "for each package is commented next to the package)."
      ],
      "id": "93931601-34a4-4973-b58a-36f4657360d5"
    },
    {
      "cell_type": "code",
      "execution_count": 2,
      "metadata": {},
      "outputs": [],
      "source": [
        "using Random # random number generation and seed-setting\n",
        "using DataFrames # tabular data structure\n",
        "using DataFramesMeta # API which can simplify chains of DataFrames transformations\n",
        "using CSVFiles # reads/writes .csv files\n",
        "using Distributions # interface to work with probability distributions\n",
        "using Plots # plotting library\n",
        "using StatsBase # statistical quantities like mean, median, etc\n",
        "using StatsPlots # some additional statistical plotting tools\n",
        "using Optim # optimization tools"
      ],
      "id": "2d550712"
    },
    {
      "cell_type": "markdown",
      "metadata": {},
      "source": [
        "## Problems (Total: 30 Points for 4850; 40 for 5850)\n",
        "\n",
        "### Problem 1"
      ],
      "id": "98155466-53df-4917-a28b-5d9beda1c7ad"
    },
    {
      "cell_type": "markdown",
      "metadata": {},
      "source": [
        "Consider the [Rahmstorf (2007)](https://doi.org/10.1073/pnas.0907765106)\n",
        "sea-level rise model from [Homework\n",
        "2](https://viveks.me/simulation-data-analysis/assignments/hw02/hw02.html):\n",
        "\n",
        "$$\\frac{dH(t)}{dt} = \\alpha (T(t) - T_0),$$ where $T_0$ is the\n",
        "temperature (in $^\\circ C$) where sea-level is in equilibrium\n",
        "($dH/dt = 0$), and $\\alpha$ is the sea-level rise sensitivity to\n",
        "temperature. Discretizing this equation using the Euler method and using\n",
        "an annual timestep ($\\delta t = 1$), we get\n",
        "$$H(t+1) = H(t) + \\alpha (T(t) - T_0).$$\n",
        "\n",
        "Suppose that we wanted to develop a Bayesian probability model for this\n",
        "problem, assuming independent normal residuals:\n",
        "\n",
        "We might specify the following priors (assuming independence across\n",
        "parameters):\n",
        "\n",
        "-   $T_0 \\sim \\mathcal{N}(-0.5, 0.1)$;\n",
        "-   $\\alpha \\sim \\mathcal{TN}(0, 5; 0, \\infty)$ (truncated normal\n",
        "    between 0 and infinity);\n",
        "-   $H_0 \\sim \\mathcal{N}(-150, 25)$.\n",
        "\n",
        "**In this problem**:\n",
        "\n",
        "-   Load the data from the `data/` folder\n",
        "    -   Historical and RCP 8.5 global mean temperatures from NOAA can be\n",
        "        found in `data/NOAA_IPCC_RCPtempsscenarios.csv` (use the fourth\n",
        "        column for the temperature series).\n",
        "    -   Global mean sea level anomalies (relative to the 1990 mean\n",
        "        global sea level) are in `data/CSIRO_Recons_gmsl_yr_2015.csv`,\n",
        "        courtesy of CSIRO\n",
        "        (<https://www.cmar.csiro.au/sealevel/sl_data_cmar.html>).\n",
        "-   Simulate from the prior predictive distribution. What do you think\n",
        "    about the priors?\n",
        "-   Would you propose new priors? If so, what might they be and why?"
      ],
      "id": "8538fe7d-4b4b-45cd-b035-29c35322f9ec"
    },
    {
      "cell_type": "markdown",
      "metadata": {},
      "source": [
        "### Problem 2\n",
        "\n",
        "Following from Problem 1, compare the maximum likelihood and maximum *a\n",
        "posteriori* estimates for the model.\n",
        "\n",
        "**In this problem**:\n",
        "\n",
        "-   Find the MLE and MAP parameter values using the prior distributions\n",
        "    given in Problem 1.\n",
        "-   Plot the median and 95% credible intervals for the hindcasts and the\n",
        "    projections under RCP 8.5 (using `ERF_ssp585_1750-2500.csv`; make\n",
        "    sure $T_0$ and $H_0$ have the same meaning as in Problem 1!).\n",
        "-   What differences do you observe? What do you attribute these\n",
        "    differences to? What conclusions can you draw about the Bayesian\n",
        "    model?\n",
        "\n",
        "### Problem 3\n",
        "\n",
        "Let’s look at how (modeled) daily maximum temperatures have (or have\n",
        "not) increased in Ithaca from 1850–2014. Model output from NOAA’s\n",
        "GFDL-ESM4 climate model (one of the models used in the latest Climate\n",
        "Model Intercomparison Project,\n",
        "[CMIP6](https://colab.research.google.com/corgiredirector?site=https%3A%2F%2Fcds.climate.copernicus.eu%2Fcdsapp%23%21%2Fdataset%2Fprojections-cmip6%3Ftab%3Doverview))\n",
        "is available in `data/gfdl-esm4-tempmax-ithaca.csv`. While this model\n",
        "output has not been bias-corrected, we won’t worry about that for the\n",
        "purposes of this assignment.\n",
        "\n",
        "**In this problem**:\n",
        "\n",
        "-   Load and plot the temperature maxima data from\n",
        "    `data/gfdl-esm4-tempmax-ithaca.csv`.\n",
        "-   Suppose that we were interested in looking at temperature\n",
        "    exceedances over 28°C. Decluster these occurrences and plot the\n",
        "    number of exceedances by year. Have they increased over time?\n",
        "-   Fit a stationary GPD model for the exceedances. What does this\n",
        "    distribution look like?\n",
        "\n",
        "### Problem 4\n",
        "\n",
        "<span style=\"color:red;\">GRADED FOR 5850 STUDENTS ONLY</span>\n",
        "\n",
        "In class, we modeled the annual maxima of the San Francisco tide gauge\n",
        "data using a stationary GEV distribution. We could also hypothesize that\n",
        "the tide extremes are influenced by the [Pacific Decadal Oscillation\n",
        "(PDO)](https://en.wikipedia.org/wiki/Pacific_decadal_oscillation), which\n",
        "is a climate pattern related to the sea-surface temperatures in the\n",
        "Pacific Ocean (similar to the El Niño-Southern Oscillation), in the\n",
        "following fashion (where only the GEV location is variable):\n",
        "\n",
        "$$y_t \\sim \\text{GEV}(\\mu_0 + \\mu_1 p_t, \\sigma, \\xi)$$\n",
        "\n",
        "**In this problem**:\n",
        "\n",
        "-   Load the San Francisco tide gauge data (`data/h551.csv`) and the PDO\n",
        "    index dataset (`data/errst.v5.pdo.dat`; this file is a\n",
        "    space-delimited file, versus the comma-delimited `.csv` files, which\n",
        "    can be loaded in Julia with\n",
        "    `CSV.read(data/errst.v5.pdo.dat, DataFrame; delim=\" \", header=2, ignorerepeated=true)`).\n",
        "    The PDO data is given as monthly values; convert these to yearly\n",
        "    indices by taking the mean. You should also drop 2023 due to the\n",
        "    incomplete record. You can use the function at the bottom of these\n",
        "    instructions to load the data, or adapt accordingly to a different\n",
        "    language.\n",
        "-   Find the MLE of the non-stationary GEV model and for a stationary\n",
        "    GEV (constant $\\mu$; we did this in class).\n",
        "-   Discuss the difference(s) between the two fitted models based on the\n",
        "    coefficient values (you can also bring to bear the range(s) of PDO\n",
        "    values from the data), the 100- and 500-year return periods in 2022,\n",
        "    and plotted hindcasts."
      ],
      "id": "d4e5ed41-136d-4794-a1a0-2380d429c9d9"
    },
    {
      "cell_type": "code",
      "execution_count": 3,
      "metadata": {},
      "outputs": [],
      "source": [
        "## load the data from the file and return a DataFrame of DateTime values and gauge measurements\n",
        "\n",
        "function load_pdo(fname)\n",
        "    # This uses the DataFramesMeta.jl package, which makes it easy to string together commands to load and process data\n",
        "    df = CSV.read(fname, DataFrame; delim=\" \", header=2, ignorerepeated=true)\n",
        "    # take yearly average\n",
        "    @transform!(df, :PDO = mean(AsTable(names(df)[2:13])))\n",
        "    @select!(df, $[:Year, :PDO])\n",
        "    @rsubset!(df, :Year != 2023)\n",
        "    return df\n",
        "end\n",
        "\n",
        "pdo = load_pdo(\"data/ersst.v5.pdo.dat\")\n",
        "# subset for years that match the tide gauge data\n",
        "years = dat_annmax[!, :Year]\n",
        "@rsubset!(pdo, :Year in years)"
      ],
      "id": "202a15fb"
    }
  ],
  "nbformat": 4,
  "nbformat_minor": 5,
  "metadata": {
    "kernelspec": {
      "name": "julia-1.9",
      "display_name": "Julia 1.9.4",
      "language": "julia"
    },
    "language_info": {
      "name": "julia",
      "file_extension": ".jl",
      "mimetype": "application/julia",
      "version": "1.9.4"
    }
  }
}