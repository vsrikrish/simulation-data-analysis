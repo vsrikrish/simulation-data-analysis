{
  "cells": [
    {
      "cell_type": "markdown",
      "metadata": {},
      "source": [
        "# Lab 1\n",
        "\n",
        "**Name**:\n",
        "\n",
        "**ID**:\n",
        "\n",
        "> **Due Date**\n",
        ">\n",
        "> Friday, 2/2/24, 9:00pm\n",
        "\n",
        "::: {.content-visible when-format=“html”}\n",
        "\n",
        "> **Caution**\n",
        ">\n",
        "> If you are enrolled in the course, make sure that you use the GitHub\n",
        "> Classroom link provided in Ed Discussion, or you may not be able to\n",
        "> get help if you run into problems.\n",
        ">\n",
        "> Otherwise, you can [find the Github repository\n",
        "> here](https://github.com/BEE4850/lab01)."
      ],
      "id": "ae081b24-e936-40fe-b8f9-8d9c4602ab8d"
    }
  ],
  "nbformat": 4,
  "nbformat_minor": 5,
  "metadata": {
    "kernelspec": {
      "name": "julia-1.8",
      "display_name": "Julia 1.8.3",
      "language": "julia"
    },
    "language_info": {
      "name": "julia",
      "file_extension": ".jl",
      "mimetype": "application/julia",
      "version": "1.8.3"
    }
  }
}