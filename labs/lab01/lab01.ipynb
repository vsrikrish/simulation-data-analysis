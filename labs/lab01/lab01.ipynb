{
  "cells": [
    {
      "cell_type": "markdown",
      "metadata": {},
      "source": [
        "# Lab 1: Getting Started With Simulation in Julia\n",
        "\n",
        "**Name**:\n",
        "\n",
        "**ID**:\n",
        "\n",
        "> **Due Date**\n",
        ">\n",
        "> Friday, 2/2/24, 9:00pm\n",
        "\n",
        "## Introduction\n",
        "\n",
        "### Overview\n",
        "\n",
        "The goal of this lab is to get you up and running with Julia. You’ll\n",
        "start to be introduced to some of the basic syntax and workflow for data\n",
        "analysis in Julia, which we will build on over the course of the\n",
        "semester. We’ll do some stats without making this apparent, and later in\n",
        "the semester, we’ll formalize the type of analysis that you’ll complete\n",
        "in this lab.\n",
        "\n",
        "This lab repeats the analysis from [Statistics Without The Agonizing\n",
        "Pain](https://www.youtube.com/watch?v=5Dnw46eC-0o) by John Rauser (which\n",
        "is a neat watch!).\n",
        "\n",
        "### Learning Objectives\n",
        "\n",
        "After completing this lab, students wil be able to:\n",
        "\n",
        "-   write functions in Julia;\n",
        "-   simulate alternative datasets to test a hypothesis;\n",
        "-   make plots to compare summaries of observed datasets to\n",
        "    alternatives.\n",
        "\n",
        "## Setup\n",
        "\n",
        "### Loading Packages\n",
        "\n",
        "The first step in any Julia script or program is to load the\n",
        "environment, which contains any needed packages. To keep things\n",
        "efficient, “base” Julia contains relatively minimal functionality, and\n",
        "additional packages can be installed and loaded to add new functions and\n",
        "tools. In Julia, package management is handled through the `Pkg.jl`\n",
        "module. Julia stores information about packages in two files:\n",
        "`Project.toml` and `Manifest.toml`, which is why these are included in\n",
        "all of your assignment repositories. You won’t need to touch these\n",
        "directly.\n",
        "\n",
        "The following lines load `Pkg.jl` and activate the desired environment."
      ],
      "id": "9f6aa91d-6cb6-4948-add4-fd67607d0dd9"
    },
    {
      "cell_type": "code",
      "execution_count": 1,
      "metadata": {},
      "outputs": [
        {
          "output_type": "stream",
          "name": "stderr",
          "text": [
            "  Activating project at `~/work/simulation-data-analysis/simulation-data-analysis/labs/lab01`"
          ]
        },
        {
          "output_type": "stream",
          "name": "stdout",
          "text": [
            "Status `~/work/simulation-data-analysis/simulation-data-analysis/labs/lab01/Project.toml`\n",
            "  [7073ff75] IJulia v1.24.0\n",
            "⌃ [91a5bcdd] Plots v1.38.8\n",
            "  [2913bbd2] StatsBase v0.33.21\n",
            "  [9a3f8284] Random\n",
            "Info Packages marked with ⌃ have new versions available and may be upgradable."
          ]
        }
      ],
      "source": [
        "using Pkg # load Pkg.jl\n",
        "Pkg.activate(@__DIR__) # load the environment based on the *.toml files in the same directory as the current file\n",
        "Pkg.instantiate() # install any needed packages which are missing from the local install\n",
        "Pkg.status() # print the packages available in the environment."
      ],
      "id": "d5857495"
    },
    {
      "cell_type": "markdown",
      "metadata": {},
      "source": [
        "I will start all of your assignments and scripts with at least the first\n",
        "three of these lines (`Pkg.status()` can be useful when you don’t know\n",
        "what’s available, but won’t be necessary for our purposes going\n",
        "forward).\n",
        "\n",
        "If you want to add additional packages for later use, you can do so with\n",
        "`Pkg.add()`. I’ve commented out these lines, as they are not needed, but\n",
        "feel free to uncomment and test: trying to `add` a package which is\n",
        "already in the environment won’t do anything harmful."
      ],
      "id": "446f4ae9-2477-4f8d-81b7-148a62c9e59e"
    },
    {
      "cell_type": "code",
      "execution_count": 2,
      "metadata": {},
      "outputs": [],
      "source": [
        "# Pkg.add(\"Plots\") # add Plots.jl, the base plotting library, to the environment"
      ],
      "id": "e9f07517"
    },
    {
      "cell_type": "markdown",
      "metadata": {},
      "source": [
        "Now, we load the packages that we will need with the `using` keyword."
      ],
      "id": "ed52b006-03d6-48be-8714-3b86a3271b65"
    },
    {
      "cell_type": "code",
      "execution_count": 3,
      "metadata": {},
      "outputs": [],
      "source": [
        "using Random # this loads functionality for random number generation\n",
        "using StatsBase # this includes a bunch of statistical functions, including mean and quantile\n",
        "using Plots # this loads Plots.jl"
      ],
      "id": "4dfe4c9f"
    },
    {
      "cell_type": "markdown",
      "metadata": {},
      "source": [
        "And we’re all set! Because we provided the environment files, the rest\n",
        "of this notebook should work smoothly (assuming you’re using Julia\n",
        "1.8.x), but if not, please ask or post about it!\n",
        "\n",
        "> **Caution**\n",
        ">\n",
        "> Sometimes difficulties can emerge if the version of Julia is\n",
        "> different. The first thing to try is to delete `Manifest.toml` and\n",
        "> re-run `Pkg.instantiate()`, as this might resolve some issues related\n",
        "> to package versions, though it runs the risk of a update changing some\n",
        "> of the syntax. If you run into trouble, please bring it up on Ed\n",
        "> Discussion, and we’ll work through it.\n",
        "\n",
        "### Load Data\n",
        "\n",
        "The underlying question we would like to address is: what is the\n",
        "influence of drinking beer on the likelihood of being bitten by\n",
        "mosquitoes?\n",
        "\n",
        "First, we need to load the data. We will look at ways to work with\n",
        "structured data files later. For now, let’s just enter the data\n",
        "manually. We will do this using *vectors*, which are data structures\n",
        "which correspond to one-dimensional lists. To define a vector, enclose\n",
        "the values between two square brackets, `[` and `]`[1] Line breaks don’t\n",
        "matter: Julia is smart enough to recognize that the procedure isn’t\n",
        "complete until it sees the closing bracket.\n",
        "\n",
        "Let’s load data for the number of bites reported by the participants who\n",
        "drank beer.\n",
        "\n",
        "[1] There is some nuance about whether you separate values with commas\n",
        "or spaces, which determines if the resulting vector is a row vector or a\n",
        "column vector. This isn’t particularly relevant for this assignment, but\n",
        "can matter later."
      ],
      "id": "935a52cd-ddd3-455f-b462-b4112ec083a3"
    },
    {
      "cell_type": "code",
      "execution_count": 4,
      "metadata": {},
      "outputs": [
        {
          "output_type": "display_data",
          "metadata": {},
          "data": {
            "text/plain": [
              "25-element Vector{Int64}:\n",
              " 27\n",
              " 20\n",
              " 21\n",
              " 26\n",
              " 27\n",
              " 31\n",
              " 24\n",
              " 21\n",
              " 20\n",
              " 19\n",
              " 23\n",
              " 24\n",
              " 28\n",
              " 19\n",
              " 24\n",
              " 29\n",
              " 18\n",
              " 20\n",
              " 17\n",
              " 31\n",
              " 20\n",
              " 25\n",
              " 28\n",
              " 21\n",
              " 27"
            ]
          }
        }
      ],
      "source": [
        "beer = [27, 20, 21, 26, 27, 31, 24, 21, 20, 19, 23, 24, 28, 19, 24, 29, 18, 20, 17, 31, 20, 25, 28, 21, 27]"
      ],
      "id": "b425299b"
    },
    {
      "cell_type": "markdown",
      "metadata": {},
      "source": [
        "We can see what type of variable `beer` is by using the `typeof`\n",
        "function:"
      ],
      "id": "e76d88fb-6cff-4df5-b8f0-cb3447e216e1"
    },
    {
      "cell_type": "code",
      "execution_count": 5,
      "metadata": {},
      "outputs": [
        {
          "output_type": "display_data",
          "metadata": {},
          "data": {
            "text/html": [
              "<pre>Vector{Int64}<span class=\"ansi-bright-black-fg\"> (alias for </span><span class=\"ansi-bright-black-fg\">Array{Int64, 1}</span><span class=\"ansi-bright-black-fg\">)</span></pre>"
            ]
          }
        }
      ],
      "source": [
        "typeof(beer)"
      ],
      "id": "e8820663"
    },
    {
      "cell_type": "markdown",
      "metadata": {},
      "source": [
        "This tells us that `beer` is a vector consisting of integers (which\n",
        "means they don’t include any decimals). Next, let’s load the data for\n",
        "the number of times participants who were drinking water were bitten."
      ],
      "id": "bcf71741-e845-445d-8ba6-affa9045d8c2"
    },
    {
      "cell_type": "code",
      "execution_count": 6,
      "metadata": {},
      "outputs": [],
      "source": [
        "water = [21, 22, 15, 12, 21, 16, 19, 15, 22, 24, 19, 23, 13, 22, 20, 24, 18, 20];"
      ],
      "id": "d40ea37b"
    },
    {
      "cell_type": "markdown",
      "metadata": {},
      "source": [
        "Notice that, unlike when we created `beer`, we didn’t get any output\n",
        "from creating `water`. This is because we ended the statement with a\n",
        "semi-colon `;`, which suppresses the output that would otherwise be\n",
        "displayed. This can be a convenient way to clean up the output of your\n",
        "code.\n",
        "\n",
        "Another handy method for displaying variables is the `@show` macro. A\n",
        "*macro* is just a particular type of Julia function which starts with\n",
        "`@` and is “applied” to some other code:"
      ],
      "id": "b11d8905-900b-4fdb-b358-6e4bff5281cf"
    },
    {
      "cell_type": "code",
      "execution_count": 7,
      "metadata": {},
      "outputs": [
        {
          "output_type": "stream",
          "name": "stdout",
          "text": [
            "water = [21, 22, 15, 12, 21, 16, 19, 15, 22, 24, 19, 23, 13, 22, 20, 24, 18, 20]"
          ]
        }
      ],
      "source": [
        "@show water;"
      ],
      "id": "0c846169"
    },
    {
      "cell_type": "markdown",
      "metadata": {},
      "source": [
        "The nice thing about using (**show?**) is that it explicitly tells us\n",
        "the name of the variable and what it equals. However, we do have to\n",
        "include the semi-colon, or else it will double-print the output.\n",
        "\n",
        "### Initial Analysis\n",
        "\n",
        "How can we determine if there’s a meaningful difference between these\n",
        "two sets of numbers? Naively, we might simply look at the different in\n",
        "means between the two datasets."
      ],
      "id": "416a976f-3f43-4917-9841-afd114882c7b"
    },
    {
      "cell_type": "code",
      "execution_count": 8,
      "metadata": {},
      "outputs": [
        {
          "output_type": "stream",
          "name": "stdout",
          "text": [
            "observed_difference = 4.37777777777778"
          ]
        }
      ],
      "source": [
        "observed_difference = mean(beer) - mean(water)\n",
        "@show observed_difference;"
      ],
      "id": "ce8f0e4a"
    },
    {
      "cell_type": "markdown",
      "metadata": {},
      "source": [
        "This tells us that the participants in the experiment who drank beer\n",
        "were bitten approximately 4.3 more times than the participants who drank\n",
        "water! Does that seem like a meaningful difference, or could it be the\n",
        "result of random chance? In this problem, we will use a *simulation*\n",
        "approach to address this question.\n",
        "\n",
        "Suppose someone is skeptical of the idea that drinking beer could result\n",
        "in a higher attraction to mosquitoes, and therefore more bites. To this\n",
        "skeptic, the two datasets are really just different samples from the\n",
        "same underlying population of people getting bitten by mosquitoes,\n",
        "rather than two different populations with different propensities for\n",
        "being bitten. If this is the case, then we can “shuffle” all of the\n",
        "measurements between the two datasets and re-compute the differences in\n",
        "the means, repeat this procedure a large number of times, and the\n",
        "difference between the two observed means should be captured by the\n",
        "distribution of possible differences.\n",
        "\n",
        "## Problems\n",
        "\n",
        "### Problem 1: Write a Simulation Function (10 points)\n",
        "\n",
        "Write a function which:\n",
        "\n",
        "1.  takes in two vectors;\n",
        "2.  combines them (you can use the\n",
        "    [`vcat()`](https://docs.julialang.org/en/v1/base/arrays/#Base.vcat)\n",
        "    function to concatenate two column vectors);\n",
        "3.  shuffles the combined vector (using the\n",
        "    [`shuffle`](https://docs.julialang.org/en/v1/stdlib/Random/#Random.shuffle)\n",
        "    function);\n",
        "4.  splits this shuffled vector into two vectors with the length of the\n",
        "    original data;\n",
        "5.  returns the difference between the means of these two vectors.\n",
        "\n",
        "We’ve given you a starting skeleton function below; you just need to\n",
        "fill in the code. This may require some Googling to figure out the exact\n",
        "syntax, and you can consult the course website’s [Julia Basics\n",
        "tutorial](https://viveks.me/simulation-data-analysis/tutorials/julia-basics.html).\n",
        "Make sure to reference any consulted resources in the References section\n",
        "below!\n",
        "\n",
        "> **Why Write a Function?**\n",
        ">\n",
        "> Writing a function for code that you are going to re-use multiple\n",
        "> times makes your program more organized and readable. Plus, if you\n",
        "> find a bug, you only have to fix it in one place! Julia’s compiler\n",
        "> also can better optimize code which is organized around functions."
      ],
      "id": "96b6c850-4fb0-4192-9d4e-79b19655a63d"
    },
    {
      "cell_type": "code",
      "execution_count": 9,
      "metadata": {},
      "outputs": [
        {
          "output_type": "display_data",
          "metadata": {},
          "data": {
            "text/plain": [
              "simulate_difference (generic function with 1 method)"
            ]
          }
        }
      ],
      "source": [
        "# the function name says that it does: try to use meaningful variable and and function names!\n",
        "# y1 and y2 are the input vectors\n",
        "function simulate_difference(y1, y2)\n",
        "# concatenate both vectors into a single vector\n",
        "\n",
        "# shuffle this new vector\n",
        "\n",
        "# split the shuffled vector into two vectors with the same lengths as y1 and y2\n",
        "\n",
        "# compute the difference in means between these two new vectors; call this \"difference\"\n",
        "\n",
        "# return the difference\n",
        "return difference\n",
        "end"
      ],
      "id": "ec208862"
    },
    {
      "cell_type": "markdown",
      "metadata": {},
      "source": [
        "Apply your function to `beer` and `water`."
      ],
      "id": "888d03fb-a598-472a-8b7a-8a7216e7311e"
    },
    {
      "cell_type": "code",
      "execution_count": 10,
      "metadata": {},
      "outputs": [],
      "source": [
        "simulate_differences(beer, water)"
      ],
      "id": "6191e0a1"
    },
    {
      "cell_type": "markdown",
      "metadata": {},
      "source": [
        "### Problem 2: Plot Simulations (5 points)\n",
        "\n",
        "Generate 10,000 simulations by applying your function to `beer` and\n",
        "`water` repeatedly. The most straightforward way to do this is with a\n",
        "*comprehension*, which will automatically evaluate the function over a\n",
        "vector if inputs and return a vector. The general format for a\n",
        "comprehension is `output = [function(var) for var in some_range]`.\n",
        "\n",
        "For example, to compute the square of all of the integers between 0 and\n",
        "10:"
      ],
      "id": "68d1fe6c-436c-4c73-abdc-f5d91b36f2d1"
    },
    {
      "cell_type": "code",
      "execution_count": 11,
      "metadata": {},
      "outputs": [
        {
          "output_type": "display_data",
          "metadata": {},
          "data": {
            "text/plain": [
              "10-element Vector{Int64}:\n",
              "   1\n",
              "   4\n",
              "   9\n",
              "  16\n",
              "  25\n",
              "  36\n",
              "  49\n",
              "  64\n",
              "  81\n",
              " 100"
            ]
          }
        }
      ],
      "source": [
        "squares = [x^2 for x in 1:10]"
      ],
      "id": "ba3c4d1d"
    },
    {
      "cell_type": "markdown",
      "metadata": {},
      "source": [
        "To reuse a function repeatedly on the same inputs, you can just use the\n",
        "`for var in some_range` as a counter, without `var` changing the inputs\n",
        "to the function.\n",
        "\n",
        "You could also"
      ],
      "id": "89ea9236-bead-4841-a659-b47da17fc7ad"
    },
    {
      "cell_type": "code",
      "execution_count": 12,
      "metadata": {},
      "outputs": [],
      "source": [
        "# compute your differences here"
      ],
      "id": "f98621e3"
    },
    {
      "cell_type": "markdown",
      "metadata": {},
      "source": [
        "Finally, plot a histogram of the differences in means along with a\n",
        "vertical line showing the observed difference. You can adjust the code\n",
        "below based on what your named your vector of differences above. If you\n",
        "have questions about any of the arguments to `histogram()` or\n",
        "\\`vline!(), please experiment, ask, and/or look at the website’s [Making\n",
        "Plots with Julia\n",
        "tutorial](https://viveks.me/simulation-data-analysis/tutorials/julia-plots.html).\n",
        "\n",
        "> **Mutating Functions**\n",
        ">\n",
        "> Functions which change their inputs in-place (without needing the\n",
        "> output to be saved to another variable) are called *mutating*. In\n",
        "> Julia, the convention is to end functions which mutate their inputs\n",
        "> with an exclamation point `!`. For example, `vline(...)` will create a\n",
        "> new plot with just a vertical line, but `vline!(p, ...)` will add a\n",
        "> vertical line to the existing plot `p`. There are many mutating\n",
        "> functions, particularly for plotting, that you will encounter, but\n",
        "> it’s good practice in general to avoid mutation for your own\n",
        "> functions.\n",
        "\n",
        "> **Keyword Arguments**\n",
        ">\n",
        "> Julia separates arguments which are required and those which are\n",
        "> optional (and therefore require keywords to tell the function that\n",
        "> they’re not just the defaults) with a semi-colon, as you can see in\n",
        "> the code below."
      ],
      "id": "a61e0ce6-4467-4038-aa9a-d411fbff02d2"
    },
    {
      "cell_type": "code",
      "execution_count": 13,
      "metadata": {},
      "outputs": [],
      "source": [
        "p = histogram(simulated_differences; # this is the vector for the histogram\n",
        "xlabel=\"Differences in Means\", # set the x-axis label\n",
        "ylabel=\"Proportion of Samples\", # set the y-axis label\n",
        "label=\"Simulations Assuming Skeptical Hypothesis\", # set legend label for the data in this series,\n",
        "legend=:topleft, # legend position; you can turn the legend off with legend=false\n",
        "normalize=true, # plot proportion of samples instead of raw counts\n",
        "color=:blue # set the color of histogram bars\n",
        ")\n",
        "vline!(p, # plot on the previous plot p\n",
        "[observed_difference]; # vline wants the value(s) to be in a vector,\n",
        "label=\"Observed Difference\", # add line label to legend\n",
        "linewidth=2, # set the width of this line\n",
        "color=:red # set the color of the line\n",
        ")"
      ],
      "id": "be51222a"
    },
    {
      "cell_type": "markdown",
      "metadata": {},
      "source": [
        "### Problem 3: Interpret Results (5 Points)\n",
        "\n",
        "Congratulations, you just tested a hypothesis based on analyzing\n",
        "simulations! What do you think about the plausibility of the skeptic’s\n",
        "hypothesis that there is no difference? Feel free to use any\n",
        "quantitative or qualitative assessments of your simulations and the\n",
        "observed difference.\n",
        "\n",
        "## References Consulted"
      ],
      "id": "053fcd7c-02c5-415c-95a7-96677c83bfca"
    }
  ],
  "nbformat": 4,
  "nbformat_minor": 5,
  "metadata": {
    "kernelspec": {
      "name": "julia-1.8",
      "display_name": "Julia 1.8.5",
      "language": "julia"
    },
    "language_info": {
      "name": "julia",
      "file_extension": ".jl",
      "mimetype": "application/julia",
      "version": "1.8.5"
    }
  }
}