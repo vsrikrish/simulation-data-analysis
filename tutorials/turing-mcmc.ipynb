{
  "cells": [
    {
      "cell_type": "markdown",
      "metadata": {},
      "source": [
        "# Markov Chain Monte Carlo With Turing\n",
        "\n",
        "## Overview\n",
        "\n",
        "This tutorial will give some examples of using `Turing.jl` and Markov\n",
        "Chain Monte Carlo to sample from posterior distributions.\n",
        "\n",
        "## Setup"
      ],
      "id": "d656f1e0-e28a-4062-8fba-7b5c41f0aa95"
    },
    {
      "cell_type": "code",
      "execution_count": 2,
      "metadata": {},
      "outputs": [],
      "source": [
        "using Turing\n",
        "using Distributions\n",
        "using Plots\n",
        "default(fmt = :png) # the tide gauge data is long, this keeps images a manageable size\n",
        "using LaTeXStrings\n",
        "using StatsPlots\n",
        "using Measures\n",
        "using StatsBase\n",
        "using Optim\n",
        "using Random\n",
        "using DataFrames\n",
        "using DataFramesMeta\n",
        "using Dates\n",
        "using CSV"
      ],
      "id": "fb0f7cb3"
    },
    {
      "cell_type": "markdown",
      "metadata": {},
      "source": [
        "As this tutorial involves random number generation, we will set a random\n",
        "seed to ensure reproducibility."
      ],
      "id": "d49587d2-a5ce-4e26-a676-f3ea4714cf25"
    },
    {
      "cell_type": "code",
      "execution_count": 3,
      "metadata": {},
      "outputs": [],
      "source": [
        "Random.seed!(1);"
      ],
      "id": "ad16050f"
    },
    {
      "cell_type": "markdown",
      "metadata": {},
      "source": [
        "## Fitting A Linear Regression Model\n",
        "\n",
        "Let’s start with a simple example: fitting a linear regression model to\n",
        "simulated data.\n",
        "\n",
        "> **Positive Control Tests**\n",
        ">\n",
        "> Simulating data with a known data-generating process and then trying\n",
        "> to obtain the parameters for that process is an important step in any\n",
        "> workflow.\n",
        "\n",
        "### Simulating Data\n",
        "\n",
        "The data-generating process for this example will be: $$\n",
        "\\begin{gather}\n",
        "y = 5 + 2x + \\varepsilon \\\\\n",
        "\\varepsilon \\sim \\text{Normal}(0, 3),\n",
        "\\end{gather}\n",
        "$$ where $\\varepsilon$ is so-called “white noise”, which adds\n",
        "stochasticity to the data set. The generated dataset is shown in\n",
        "<a href=\"#fig-scatter-regression\" class=\"quarto-xref\">Figure 1</a>."
      ],
      "id": "b0231e28-fafe-42b5-937c-75ebe75a85af"
    },
    {
      "cell_type": "code",
      "execution_count": 4,
      "metadata": {},
      "outputs": [],
      "source": [],
      "id": "cell-fig-scatter-regression"
    },
    {
      "cell_type": "markdown",
      "metadata": {},
      "source": [
        "### Model Specification\n",
        "\n",
        "The statistical model for a standard linear regression problem is $$\n",
        "\\begin{gather}\n",
        "y = a + bx + \\varepsilon \\\\\n",
        "\\varepsilon \\sim \\text{Normal}(0, \\sigma).\n",
        "\\end{gather}\n",
        "$$\n",
        "\n",
        "Rearranging, we can rewrite the likelihood function as:\n",
        "$$y \\sim \\text{Normal}(\\mu, \\sigma),$$ where $\\mu = a + bx$. This means\n",
        "that we have three parameters to fit: $a$, $b$, and $\\sigma^2$.\n",
        "\n",
        "Next, we need to select priors on our parameters. We’ll use relatively\n",
        "generic distributions to avoid using the information we have (since we\n",
        "generated the data ourselves), but in practice, we’d want to use any\n",
        "relevant information that we had from our knowledge of the problem.\n",
        "Let’s use relatively diffuse normal distributions for the trend\n",
        "parameters $a$ and $b$ and a half-normal distribution (a normal\n",
        "distribution truncated at 0, to only allow positive values) for the\n",
        "variance $\\sigma^2$, as recommended by Gelman (2006).\n",
        "\n",
        "$$\n",
        "\\begin{gather}\n",
        "a \\sim \\text{Normal(0, 10)} \\\\\n",
        "b \\sim \\text{Normal(0, 10)} \\\\\n",
        "\\sigma \\sim \\text{Half-Normal}(0, 25)\n",
        "\\end{gather}\n",
        "$$\n",
        "\n",
        "### Using Turing\n",
        "\n",
        "#### Coding the Model\n",
        "\n",
        "`Turing.jl` uses the `@model` macro to specify the model function. We’ll\n",
        "follow the setup in the [Turing\n",
        "documentation](https://turinglang.org/dev/tutorials/05-linear-regression).\n",
        "\n",
        "To specify distributions on parameters (and the data, which can be\n",
        "thought of as uncertain parameters in Bayesian statistics), use a tilde\n",
        "`~`, and use equals `=` for transformations (which we don’t have in this\n",
        "case)."
      ],
      "id": "8a3504a2-0fe2-4736-aa9e-21ae8d435773"
    },
    {
      "cell_type": "code",
      "execution_count": 5,
      "metadata": {},
      "outputs": [
        {
          "output_type": "display_data",
          "metadata": {},
          "data": {
            "text/plain": [
              "linear_regression (generic function with 2 methods)"
            ]
          }
        }
      ],
      "source": [
        "@model function linear_regression(x, y)\n",
        "    # set priors\n",
        "    σ ~ truncated(Normal(0, 25); lower=0)\n",
        "    a ~ Normal(0, 10)\n",
        "    b ~ Normal(0, 10)\n",
        "\n",
        "    # compute the likelihood\n",
        "    for i = 1:length(y)\n",
        "        # compute the mean value for the data point\n",
        "        μ = a + b * x[i]\n",
        "        y[i] ~ Normal(μ, σ)\n",
        "    end\n",
        "end"
      ],
      "id": "bc7956e2"
    },
    {
      "cell_type": "markdown",
      "metadata": {},
      "source": [
        "#### Fitting The Model\n",
        "\n",
        "Now we can call the sampler to draw from the posterior. We’ll use the\n",
        "[No-U-Turn\n",
        "sampler](https://en.wikipedia.org/wiki/Hamiltonian_Monte_Carlo#No_U-Turn_Sampler)\n",
        "(Hoffman & Gelman, 2014), which is a Hamiltonian Monte Carlo algorithm\n",
        "(a different category of MCMC sampler than the Metropolis-Hastings\n",
        "algorithm discussed in class). We’ll also use 4 chains so we can test\n",
        "that the chains are well-mixed, and each chain will be run for 5,000\n",
        "iterations[1]\n",
        "\n",
        "[1] Hamiltonian Monte Carlo samplers often need to be run for fewer\n",
        "iterations than Metropolis-Hastings samplers, as the exploratory step\n",
        "uses information about the gradient of the statistical model, versus the\n",
        "random walk of Metropolis-Hastings. The disadvantage is that this\n",
        "gradient information must be available, which is not always the case for\n",
        "external simulation models. Simulation models coded in Julia can usually\n",
        "be automatically differentiated by Turing’s tools, however."
      ],
      "id": "0738555d-9f48-4506-b489-4140656b02ae"
    },
    {
      "cell_type": "code",
      "execution_count": 6,
      "metadata": {},
      "outputs": [
        {
          "output_type": "stream",
          "name": "stderr",
          "text": [
            "┌ Warning: Only a single thread available: MCMC chains are not sampled in parallel\n",
            "└ @ AbstractMCMC ~/.julia/packages/AbstractMCMC/F9Hbk/src/sample.jl:296\n",
            "┌ Info: Found initial step size\n",
            "└   ϵ = 0.00625\n",
            "┌ Info: Found initial step size\n",
            "└   ϵ = 0.025\n",
            "┌ Info: Found initial step size\n",
            "└   ϵ = 0.2\n",
            "┌ Info: Found initial step size\n",
            "└   ϵ = 0.003125\n",
            "Sampling (1 threads):  50%|██████████████▌              |  ETA: 0:00:00Sampling (1 threads): 100%|█████████████████████████████| Time: 0:00:01"
          ]
        },
        {
          "output_type": "stream",
          "name": "stdout",
          "text": [
            "chain = MCMC chain (5000×15×4 Array{Float64, 3})"
          ]
        },
        {
          "output_type": "display_data",
          "metadata": {},
          "data": {
            "text/html": [
              "<pre>Chains MCMC chain (5000×15×4 Array{Float64, 3}):\n",
              "Iterations        = 1001:1:6000\n",
              "Number of chains  = 4\n",
              "Samples per chain = 5000\n",
              "Wall duration     = 12.67 seconds\n",
              "Compute duration  = 10.75 seconds\n",
              "parameters        = σ, a, b\n",
              "internals         = lp, n_steps, is_accept, acceptance_rate, log_density, hamiltonian_energy, hamiltonian_energy_error, max_hamiltonian_energy_error, tree_depth, numerical_error, step_size, nom_step_size\n",
              "Summary Statistics\n",
              " <span class=\"ansi-bold\"> parameters  </span><span class=\"ansi-bold\">    mean  </span><span class=\"ansi-bold\">     std  </span><span class=\"ansi-bold\">    mcse  </span><span class=\"ansi-bold\">   ess_bulk  </span><span class=\"ansi-bold\">   ess_tail  </span><span class=\"ansi-bold\">    rhat ⋯\n",
              "</span> <span class=\"ansi-bright-black-fg\">     Symbol  </span><span class=\"ansi-bright-black-fg\"> Float64  </span><span class=\"ansi-bright-black-fg\"> Float64  </span><span class=\"ansi-bright-black-fg\"> Float64  </span><span class=\"ansi-bright-black-fg\">    Float64  </span><span class=\"ansi-bright-black-fg\">    Float64  </span><span class=\"ansi-bright-black-fg\"> Float64 ⋯\n",
              "</span>           σ    5.3881    0.9886    0.0097   10835.5758   10595.6871    1.0003 ⋯\n",
              "           a    7.3483    2.1028    0.0231    8360.9948    8903.0798    1.0002 ⋯\n",
              "           b    1.7993    0.1865    0.0021    8290.7784    8803.3686    1.0003 ⋯\n",
              "<span class=\"ansi-cyan-fg\">                                                                1 column omitted\n",
              "</span>Quantiles\n",
              " <span class=\"ansi-bold\"> parameters  </span><span class=\"ansi-bold\">    2.5%  </span><span class=\"ansi-bold\">   25.0%  </span><span class=\"ansi-bold\">   50.0%  </span><span class=\"ansi-bold\">   75.0%  </span><span class=\"ansi-bold\">   97.5%\n",
              "</span> <span class=\"ansi-bright-black-fg\">     Symbol  </span><span class=\"ansi-bright-black-fg\"> Float64  </span><span class=\"ansi-bright-black-fg\"> Float64  </span><span class=\"ansi-bright-black-fg\"> Float64  </span><span class=\"ansi-bright-black-fg\"> Float64  </span><span class=\"ansi-bright-black-fg\"> Float64\n",
              "</span>           σ    3.8905    4.6873    5.2471    5.9322    7.7226\n",
              "           a    3.1190    5.9784    7.3761    8.7487   11.4444\n",
              "           b    1.4350    1.6773    1.7968    1.9214    2.1732\n",
              "</pre>"
            ]
          }
        }
      ],
      "source": [
        "# set up the sampler\n",
        "model = linear_regression(x, y)\n",
        "n_chains = 4\n",
        "n_per_chain = 5000\n",
        "chain = sample(model, NUTS(), MCMCThreads(), n_per_chain, n_chains, drop_warmup=true)\n",
        "@show chain"
      ],
      "id": "ec82b326"
    },
    {
      "cell_type": "markdown",
      "metadata": {},
      "source": [
        "How can we interpret the output? The first parts of the summary\n",
        "statistics are straightforward: we get the mean, standard deviation, and\n",
        "Monte Carlo standard error (`mcse`) of each parameter. We also get\n",
        "information about the effective sample size (ESS)[1] and $\\hat{R}$,\n",
        "which measures the ratio of within-chain variance and across-chain\n",
        "variance as a check for convergence[2].\n",
        "\n",
        "In this case, we can see that we were generally able to recover the\n",
        "“true” data-generating values of $\\sigma = 4$ and $b = 2$, but $a$ is\n",
        "slightly off (the mean is 3, rather than the data-generating value of\n",
        "5). In fact, there is substantial uncertainty about $a$, with a 95%\n",
        "credible interval of $(3.1, 11.4)$ (compared to $(1.4, 2.2)$ for $b$).\n",
        "This isn’t surprising: given the variance of the noise $\\sigma^2$, there\n",
        "are many different intercepts which could fit within that spread.\n",
        "\n",
        "Let’s now plot the chains for visual inspection.\n",
        "\n",
        "[1] The ESS reflects the efficiency of the sampler: this is an estimate\n",
        "of the equivalent number of independent samples; the more correlated the\n",
        "samples, the lower the ESS.\n",
        "\n",
        "[2] The closer $\\hat{R}$ is to 1, the better."
      ],
      "id": "02060365-2169-4fab-9919-dfe760c957e2"
    },
    {
      "cell_type": "code",
      "execution_count": 7,
      "metadata": {},
      "outputs": [
        {
          "output_type": "display_data",
          "metadata": {},
          "data": {}
        }
      ],
      "source": [
        "plot(chain)"
      ],
      "id": "cell-fig-chains-regression"
    },
    {
      "cell_type": "markdown",
      "metadata": {},
      "source": [
        "We can see from\n",
        "<a href=\"#fig-chains-regression\" class=\"quarto-xref\">Figure 2</a> that\n",
        "our chains mixed well and seem to have converged to similar\n",
        "distributions! The traceplots have a “hairy caterpiller” appearance,\n",
        "suggesting relatively little autocorrelation. We can also see how much\n",
        "more uncertainty there is with the intercept $a$, while the slope $b$ is\n",
        "much more constrained.\n",
        "\n",
        "Another interesting comparison we can make is with the\n",
        "maximum-likelihood estimate (MLE), which we can obtain through\n",
        "optimization."
      ],
      "id": "bdb5061b-8b28-49ee-a2c3-81a000d83a7d"
    },
    {
      "cell_type": "code",
      "execution_count": 8,
      "metadata": {},
      "outputs": [],
      "source": [
        "mle_model = linear_regression(x, y)\n",
        "mle = optimize(mle_model, MLE())\n",
        "coef(mle)"
      ],
      "id": "df63f7f3"
    },
    {
      "cell_type": "markdown",
      "metadata": {},
      "source": [
        "We could also get the maximum *a posteriori* (MAP) estimate, which\n",
        "includes the prior density, by replacing `MLE()` with `MAP()`.\n",
        "\n",
        "### Model Diagnostics and Posterior Predictive Checks\n",
        "\n",
        "One advantage of the Bayesian modeling approach here is that we have\n",
        "access to a *generative model*, or a model which we can use to generate\n",
        "datasets. This means that we can now use Monte Carlo simulation,\n",
        "sampling from our posteriors, to look at how uncertainty in the\n",
        "parameter estimates propagates through the model. Let’s write a function\n",
        "which gets samples from the MCMC chains and generates datasets."
      ],
      "id": "103fd04d-c8ac-47b6-8463-7b84ec3f9560"
    },
    {
      "cell_type": "code",
      "execution_count": 9,
      "metadata": {},
      "outputs": [
        {
          "output_type": "display_data",
          "metadata": {},
          "data": {
            "text/plain": [
              "mc_predict_regression (generic function with 1 method)"
            ]
          }
        }
      ],
      "source": [
        "function mc_predict_regression(x, chain)\n",
        "    # get the posterior samples\n",
        "    a = Array(group(chain, :a))\n",
        "    b = Array(group(chain, :b))\n",
        "    σ = Array(group(chain, :σ))\n",
        "\n",
        "    # loop and generate alternative realizations\n",
        "    μ = a' .+ x * b'\n",
        "    y = zeros((length(x), length(a)))\n",
        "    for i = 1:length(a)\n",
        "        y[:, i] = rand.(Normal.(μ[:, i], σ[i]))\n",
        "    end\n",
        "    return y\n",
        "end"
      ],
      "id": "1b65fd32"
    },
    {
      "cell_type": "markdown",
      "metadata": {},
      "source": [
        "Now we can generate a predictive interval and median and compare to the\n",
        "data."
      ],
      "id": "936c5a3f-bad1-4440-aba7-e3e584008dab"
    },
    {
      "cell_type": "code",
      "execution_count": 10,
      "metadata": {},
      "outputs": [
        {
          "output_type": "display_data",
          "metadata": {},
          "data": {
            "text/plain": [
              "21×20000 Matrix{Float64}:\n",
              " -0.440341  14.2143    3.73736    3.98402  …  13.9896   12.1475    5.46884\n",
              " -7.87522    4.36333  -7.19389    3.34537      9.48413  11.4606    3.81313\n",
              " 17.3151     8.9222    0.292523  12.9925       7.6094   11.5593   10.3064\n",
              "  2.28767    7.4078    9.09122    9.90026     21.4866   21.4643    4.38994\n",
              " 23.1321     9.28746   9.56973   17.9069      14.6245    6.80164  23.3068\n",
              " 10.0429    12.6741   23.6552    24.0107   …  17.07     12.9291   19.7511\n",
              " 23.3753    33.5452   11.6653    14.3672      21.4006   24.598    25.4434\n",
              " 11.6998     7.79426  16.9991    17.8128       8.01083  19.9234   17.2112\n",
              " 16.3753    22.476    20.8614    20.1019      15.169    22.8508   21.7635\n",
              " 17.1411    14.5313   32.2826    23.3866      27.5636   22.508    19.5266\n",
              " 27.7594    28.5052   30.7478    35.5763   …  22.858    27.8321   17.396\n",
              " 28.2636    24.2078   23.8358    27.5576      23.1143   30.4325   25.8818\n",
              " 35.3991    39.3917   40.5648    30.0351      29.1015   31.9592   38.7204\n",
              " 27.9246    34.618    30.7003    31.2341      20.0888   18.9489   24.3442\n",
              " 44.3301    21.7205   26.0331    34.8189      34.9326   26.6271   37.492\n",
              " 29.0048    45.0313   38.5674    34.2622   …  38.0261   42.037    26.6537\n",
              " 38.1531    35.6617   28.2519    36.4022      42.352    38.8477   38.4148\n",
              " 41.646     26.0779   38.9314    42.054       30.3764   37.7851   40.6086\n",
              " 38.4945    51.9845   42.9168    42.3723      37.3804   47.7923   38.3248\n",
              " 37.3901    44.5299   44.5209    46.5456      35.1081   43.7139   47.2316\n",
              " 55.3581    41.1191   45.0658    35.4023   …  40.9341   35.7394   36.0986"
            ]
          }
        }
      ],
      "source": [
        "x_pred = 0:20\n",
        "y_pred = mc_predict_regression(x_pred, chain)"
      ],
      "id": "cb372ec1"
    },
    {
      "cell_type": "markdown",
      "metadata": {},
      "source": [
        "Notice the dimension of `y_pred`: we have 20,000 columns, because we\n",
        "have 4 chains with 5,000 samples each. If we had wanted to subsample\n",
        "(which might be necessary if we had hundreds of thousands or millions of\n",
        "samples), we could have done that within `mc_linear_regression` before\n",
        "simulation."
      ],
      "id": "85bc6bc2-0cd4-4217-8153-d15b21678724"
    },
    {
      "cell_type": "code",
      "execution_count": 11,
      "metadata": {},
      "outputs": [],
      "source": [
        "# get the boundaries for the 95% prediction interval and the median\n",
        "y_ci_low = quantile.(eachrow(y_pred), 0.025)\n",
        "y_ci_hi = quantile.(eachrow(y_pred), 0.975)\n",
        "y_med = quantile.(eachrow(y_pred), 0.5)"
      ],
      "id": "56533ca5"
    },
    {
      "cell_type": "markdown",
      "metadata": {},
      "source": [
        "Now, let’s plot the prediction interval and median, and compare to the\n",
        "original data."
      ],
      "id": "c1790ff6-44f5-4007-a6df-94c51aa26ca2"
    },
    {
      "cell_type": "code",
      "execution_count": 12,
      "metadata": {},
      "outputs": [
        {
          "output_type": "display_data",
          "metadata": {},
          "data": {}
        }
      ],
      "source": [
        "# plot prediction interval\n",
        "plot(x_pred, y_ci_low, fillrange=y_ci_hi, xlabel=L\"$x$\", ylabel=L\"$y$\", fillalpha=0.3, fillcolor=:blue, label=\"95% Prediction Interval\", legend=:topleft, linealpha=0)\n",
        "plot!(x_pred, y_med, color=:blue, label=\"Prediction Median\")\n",
        "scatter!(x, y, color=:red, label=\"Data\")"
      ],
      "id": "cell-fig-prediction-regression"
    },
    {
      "cell_type": "markdown",
      "metadata": {},
      "source": [
        "From\n",
        "<a href=\"#fig-prediction-regression\" class=\"quarto-xref\">Figure 3</a>,\n",
        "it looks like our model might be slightly under-confident, as with 20\n",
        "data points, we would expect 5% of them (or 1 data point) to be outside\n",
        "the 95% prediction interval. It’s hard to tell with only 20 data points,\n",
        "though! We could resolve this by tightening our priors, but this depends\n",
        "on how much information we used to specify them in the first place. The\n",
        "goal shouldn’t be to hit a specific level of uncertainty, but if there\n",
        "is a sound reason to tighten the priors, we could do so.\n",
        "\n",
        "Now let’s look at the residuals from the posterior median and the data.\n",
        "The partial autocorrelations plotted in\n",
        "<a href=\"#fig-residuals-regression\" class=\"quarto-xref\">Figure 4</a> are\n",
        "not fully convincing, as there are large autocorrelation coefficients\n",
        "with long lags, but the dataset is quite small, so it’s hard to draw\n",
        "strong conclusions. We won’t go further down this rabbit hole as we know\n",
        "our data-generating process involved independent noise, but for a real\n",
        "dataset, we might want to try a model specification with autocorrelated\n",
        "errors to compare."
      ],
      "id": "39cece20-ac62-47c0-a80a-94dd566f6379"
    },
    {
      "cell_type": "code",
      "execution_count": 13,
      "metadata": {},
      "outputs": [],
      "source": [
        "# calculate the median predictions and residuals\n",
        "y_pred_data = mc_predict_regression(x, chain)\n",
        "y_med_data = quantile.(eachrow(y_pred_data), 0.5)\n",
        "residuals = y_med_data .- y\n",
        "\n",
        "# plot the residuals and a line to show the zero\n",
        "plot(pacf(residuals, 1:4), line=:stem, marker=:circle, legend=:false, grid=:false, linewidth=2, xlabel=\"Lag\", ylabel=\"Partial Autocorrelation\", markersize=8, tickfontsize=14, guidefontsize=16, legendfontsize=16)\n",
        "hline!([0], linestyle=:dot, color=:red)"
      ],
      "id": "cell-fig-residuals-regression"
    },
    {
      "cell_type": "markdown",
      "metadata": {},
      "source": [
        "## Fitting Extreme Value Models to Tide Gauge Data\n",
        "\n",
        "Let’s now look at an example of fitting an extreme value distribution\n",
        "(namely, a [generalized extreme value\n",
        "distribution](https://en.wikipedia.org/wiki/Generalized_extreme_value_distribution),\n",
        "or GEV) to tide gauge data. GEV distributions have three parameters:\n",
        "\n",
        "-   $\\mu$, the *location* parameter, which reflects the positioning of\n",
        "    the bulk of the GEV distribution;\n",
        "-   $\\sigma$, the *scale* parameter, which reflects the width of the\n",
        "    bulk;\n",
        "-   $\\xi$, the *shape* parameter, which reflects the thickness and\n",
        "    boundedness of the tail.\n",
        "\n",
        "The shape parameter $\\xi$ is often of interest, as there are three\n",
        "classes of GEV distributions corresponding to different signs:\n",
        "\n",
        "-   $\\xi < 0$ means that the distribution is bounded;\n",
        "-   $\\xi = 0$ means that the distribution has a thinner tail, so the\n",
        "    “extreme extremes” are less likely;\n",
        "-   $\\xi > 0$ means that the distribution has a thicker tail.\n",
        "\n",
        "### Load Data\n",
        "\n",
        "First, let’s load the data. We’ll use [data from the University of\n",
        "Hawaii Sea Level Center](https://uhslc.soest.hawaii.edu/datainfo/)\n",
        "(Caldwell et al., 2015) for San Francisco, from 1897-2013. If you don’t\n",
        "have this data and are working with the notebook, download it\n",
        "[here](https://uhslc.soest.hawaii.edu/data/csv/rqds/hourly/h551a.csv).\n",
        "We’ll assume it’s in a `data/` subdirectory, but change the path as\n",
        "needed.\n",
        "\n",
        "The dataset consists of dates and hours and the tide-gauge measurement,\n",
        "in mm. We’ll load the dataset into a `DataFrame`."
      ],
      "id": "c01dfeb1-39a4-459c-98bd-7b6f9ebd680c"
    },
    {
      "cell_type": "code",
      "execution_count": 14,
      "metadata": {},
      "outputs": [
        {
          "output_type": "display_data",
          "metadata": {},
          "data": {
            "text/plain": [
              "load_data (generic function with 1 method)"
            ]
          }
        }
      ],
      "source": [
        "function load_data(fname)\n",
        "    date_format = DateFormat(\"yyyy-mm-dd HH:MM:SS\")\n",
        "    df = @chain fname begin\n",
        "        CSV.File(; delim=',', header=false)\n",
        "        DataFrame\n",
        "        rename(\"Column1\" => \"year\",\n",
        "                \"Column2\" => \"month\",\n",
        "                \"Column3\" => \"day\",\n",
        "                \"Column4\" => \"hour\",\n",
        "                \"Column5\" => \"gauge\")\n",
        "        # need to reformat the decimal date in the data file\n",
        "        @transform :datetime = DateTime.(:year, :month, :day, :hour)\n",
        "        # replace -99999 with missing\n",
        "        @transform :gauge = ifelse.(abs.(:gauge) .>= 9999, missing, :gauge)\n",
        "        select(:datetime, :gauge)\n",
        "    end\n",
        "    return df\n",
        "end"
      ],
      "id": "999ded00"
    },
    {
      "cell_type": "code",
      "execution_count": 15,
      "metadata": {},
      "outputs": [],
      "source": [
        "dat = load_data(\"data/h551a.csv\")\n",
        "first(dat, 6)"
      ],
      "id": "324e8a6a-646a-4146-adc4-999e126e9544"
    },
    {
      "cell_type": "code",
      "execution_count": 16,
      "metadata": {},
      "outputs": [
        {
          "output_type": "display_data",
          "metadata": {},
          "data": {}
        }
      ],
      "source": [
        "@df dat plot(:datetime, :gauge, label=\"Observations\", bottom_margin=9mm)\n",
        "xaxis!(\"Date\", xrot=30)\n",
        "yaxis!(\"Mean Water Level\")"
      ],
      "id": "cell-fig-raw-data"
    },
    {
      "cell_type": "markdown",
      "metadata": {},
      "source": [
        "Next, we need to detrend the data to remove the impacts of sea-level\n",
        "rise. We do this by removing a one-year moving average, centered on the\n",
        "data point, per the recommendation of Arns et al. (2013)."
      ],
      "id": "9b5c8761-dd6e-4f18-99a4-8dede68c32c5"
    },
    {
      "cell_type": "code",
      "execution_count": 17,
      "metadata": {},
      "outputs": [
        {
          "output_type": "display_data",
          "metadata": {},
          "data": {}
        }
      ],
      "source": [
        "# calculate the moving average and subtract it off\n",
        "ma_length = 366\n",
        "ma_offset = Int(floor(ma_length/2))\n",
        "moving_average(series,n) = [mean(@view series[i-n:i+n]) for i in n+1:length(series)-n]\n",
        "dat_ma = DataFrame(datetime=dat.datetime[ma_offset+1:end-ma_offset], residual=dat.gauge[ma_offset+1:end-ma_offset] .- moving_average(dat.gauge, ma_offset))\n",
        "\n",
        "# plot\n",
        "@df dat_ma plot(:datetime, :residual, label=\"Detrended Observations\", bottom_margin=9mm)\n",
        "xaxis!(\"Date\", xrot=30)\n",
        "yaxis!(\"Mean Water Level\")"
      ],
      "id": "cell-fig-data-detrend"
    },
    {
      "cell_type": "markdown",
      "metadata": {},
      "source": [
        "The last step in preparing the data is to find the annual maxima. We can\n",
        "do this using the `groupby`, `transform`, and `combine` functions from\n",
        "`DataFrames.jl`, as below."
      ],
      "id": "364201e5-fcdd-4330-bc0d-b5c7e8138804"
    },
    {
      "cell_type": "code",
      "execution_count": 18,
      "metadata": {},
      "outputs": [
        {
          "output_type": "display_data",
          "metadata": {},
          "data": {}
        }
      ],
      "source": [
        "# calculate the annual maxima\n",
        "dat_ma = dropmissing(dat_ma)\n",
        "dat_annmax = combine(dat_ma -> dat_ma[argmax(dat_ma.residual), :],\n",
        "                groupby(transform(dat_ma, :datetime => x->year.(x)), :datetime_function))\n",
        "delete!(dat_annmax, nrow(dat_annmax))\n",
        "\n",
        "# make a histogram of the maxima to see the distribution\n",
        "histogram(dat_annmax.residual, label=false)\n",
        "ylabel!(\"Count\")\n",
        "xlabel!(\"Mean Water Level (mm)\")"
      ],
      "id": "cell-fig-annmax-histogram"
    },
    {
      "cell_type": "markdown",
      "metadata": {},
      "source": [
        "### Fit The Model"
      ],
      "id": "21708b56-58c6-442d-990c-4698fa9b45e5"
    },
    {
      "cell_type": "code",
      "execution_count": 19,
      "metadata": {},
      "outputs": [
        {
          "output_type": "stream",
          "name": "stderr",
          "text": [
            "┌ Warning: Only a single thread available: MCMC chains are not sampled in parallel\n",
            "└ @ AbstractMCMC ~/.julia/packages/AbstractMCMC/F9Hbk/src/sample.jl:296\n",
            "┌ Info: Found initial step size\n",
            "└   ϵ = 0.2\n",
            "┌ Info: Found initial step size\n",
            "└   ϵ = 0.0125\n",
            "┌ Info: Found initial step size\n",
            "└   ϵ = 0.2\n",
            "┌ Info: Found initial step size\n",
            "└   ϵ = 0.2\n",
            "Sampling (1 threads):  50%|██████████████▌              |  ETA: 0:00:03Sampling (1 threads): 100%|█████████████████████████████| Time: 0:00:06"
          ]
        },
        {
          "output_type": "stream",
          "name": "stdout",
          "text": [
            "gev_chain = MCMC chain (5000×15×4 Array{Float64, 3})"
          ]
        },
        {
          "output_type": "display_data",
          "metadata": {},
          "data": {
            "text/html": [
              "<pre>Chains MCMC chain (5000×15×4 Array{Float64, 3}):\n",
              "Iterations        = 1001:1:6000\n",
              "Number of chains  = 4\n",
              "Samples per chain = 5000\n",
              "Wall duration     = 11.52 seconds\n",
              "Compute duration  = 11.19 seconds\n",
              "parameters        = μ, σ, ξ\n",
              "internals         = lp, n_steps, is_accept, acceptance_rate, log_density, hamiltonian_energy, hamiltonian_energy_error, max_hamiltonian_energy_error, tree_depth, numerical_error, step_size, nom_step_size\n",
              "Summary Statistics\n",
              " <span class=\"ansi-bold\"> parameters  </span><span class=\"ansi-bold\">      mean  </span><span class=\"ansi-bold\">     std  </span><span class=\"ansi-bold\">    mcse  </span><span class=\"ansi-bold\">   ess_bulk  </span><span class=\"ansi-bold\">   ess_tail  </span><span class=\"ansi-bold\">    rh ⋯\n",
              "</span> <span class=\"ansi-bright-black-fg\">     Symbol  </span><span class=\"ansi-bright-black-fg\">   Float64  </span><span class=\"ansi-bright-black-fg\"> Float64  </span><span class=\"ansi-bright-black-fg\"> Float64  </span><span class=\"ansi-bright-black-fg\">    Float64  </span><span class=\"ansi-bright-black-fg\">    Float64  </span><span class=\"ansi-bright-black-fg\"> Float ⋯\n",
              "</span>           μ   1257.8174    5.6701    0.0513   12216.6653   12642.3312    1.00 ⋯\n",
              "           σ     57.1982    4.3214    0.0366   14201.5441   12575.6044    1.00 ⋯\n",
              "           ξ      0.0292    0.0625    0.0008    5915.1552    7463.8803    1.00 ⋯\n",
              "<span class=\"ansi-cyan-fg\">                                                               2 columns omitted\n",
              "</span>Quantiles\n",
              " <span class=\"ansi-bold\"> parameters  </span><span class=\"ansi-bold\">      2.5%  </span><span class=\"ansi-bold\">     25.0%  </span><span class=\"ansi-bold\">     50.0%  </span><span class=\"ansi-bold\">     75.0%  </span><span class=\"ansi-bold\">     97.5%\n",
              "</span> <span class=\"ansi-bright-black-fg\">     Symbol  </span><span class=\"ansi-bright-black-fg\">   Float64  </span><span class=\"ansi-bright-black-fg\">   Float64  </span><span class=\"ansi-bright-black-fg\">   Float64  </span><span class=\"ansi-bright-black-fg\">   Float64  </span><span class=\"ansi-bright-black-fg\">   Float64\n",
              "</span>           μ   1246.8628   1253.9821   1257.8132   1261.6027   1269.2078\n",
              "           σ     49.4284     54.1859     56.9353     59.9665     66.3174\n",
              "           ξ     -0.0811     -0.0151      0.0250      0.0699      0.1627\n",
              "</pre>"
            ]
          }
        }
      ],
      "source": [
        "@model function gev_annmax(y)               \n",
        "    μ ~ Normal(1000, 100)\n",
        "    σ ~ truncated(Normal(0, 100); lower=0)\n",
        "    ξ ~ Normal(0, 0.5)\n",
        "\n",
        "    y ~ GeneralizedExtremeValue(μ, σ, ξ)\n",
        "end\n",
        "\n",
        "gev_model = gev_annmax(dat_annmax.residual)\n",
        "n_chains = 4\n",
        "n_per_chain = 5000\n",
        "gev_chain = sample(gev_model, NUTS(), MCMCThreads(), n_per_chain, n_chains; drop_warmup=true)\n",
        "@show gev_chain"
      ],
      "id": "95c30651"
    },
    {
      "cell_type": "code",
      "execution_count": 20,
      "metadata": {},
      "outputs": [
        {
          "output_type": "display_data",
          "metadata": {},
          "data": {}
        }
      ],
      "source": [
        "plot(gev_chain)"
      ],
      "id": "cell-fig-gev-traceplot"
    },
    {
      "cell_type": "markdown",
      "metadata": {},
      "source": [
        "From <a href=\"#fig-gev-traceplot\" class=\"quarto-xref\">Figure 8</a>, it\n",
        "looks like all of the chains have converged to the same distribution;\n",
        "the Gelman-Rubin diagnostic is also close to 1 for all parameters. Next,\n",
        "we can look at a corner plot to see how the parameters are correlated."
      ],
      "id": "7f1709d8-67b7-4d45-93bc-0edc9c73eac9"
    },
    {
      "cell_type": "code",
      "execution_count": 21,
      "metadata": {},
      "outputs": [
        {
          "output_type": "display_data",
          "metadata": {},
          "data": {}
        }
      ],
      "source": [
        "corner(gev_chain)"
      ],
      "id": "cell-fig-gev-corner"
    },
    {
      "cell_type": "markdown",
      "metadata": {},
      "source": [
        "<a href=\"#fig-gev-corner\" class=\"quarto-xref\">Figure 9</a> suggests that\n",
        "the location and scale parameters $\\mu$ and $\\sigma$ are positively\n",
        "correlated. This makes some intuitive sense, as increasing the location\n",
        "parameter shifts the bulk of the distribution in a positive direction,\n",
        "and the increasing scale parameter then increases the likelihood of\n",
        "lower values. However, if these parameters are increased, the shape\n",
        "parameter $\\xi$ decreases, as the tail of the GEV does not need to be as\n",
        "thick due to the increased proximity of outliers to the bulk.\n",
        "\n",
        "Arns, A., Wahl, T., Haigh, I. D., Jensen, J., & Pattiaratchi, C. (2013).\n",
        "Estimating extreme water level probabilities: A comparison of the direct\n",
        "methods and recommendations for best practise. *Coast. Eng.*, *81*,\n",
        "51–66. <https://doi.org/10.1016/j.coastaleng.2013.07.003>\n",
        "\n",
        "Caldwell, P. C., Merrifield, M. A., & Thompson, P. R. (2015). Sea level\n",
        "measured by tide gauges from global oceans — the joint archive for sea\n",
        "level holdings (NCEI accession 0019568). NOAA National Centers for\n",
        "Environmental Information (NCEI). <https://doi.org/10.7289/V5V40S7W>\n",
        "\n",
        "Gelman, A. (2006). Prior distributions for variance parameters in\n",
        "hierarchical models (comment on article by Browne and Draper). *Bayesian\n",
        "Anal.*, *1*(3), 515–533. <https://doi.org/10.1214/06-BA117A>\n",
        "\n",
        "Hoffman, M. D., & Gelman, A. (2014). The No-U-Turn sampler: Adaptively\n",
        "setting path lengths in Hamiltonian Monte Carlo. *J. Mach. Learn. Res.*,\n",
        "*15*(47), 1593–1623."
      ],
      "id": "88715197-f67d-4177-aebf-36b5d186ef71"
    }
  ],
  "nbformat": 4,
  "nbformat_minor": 5,
  "metadata": {
    "kernelspec": {
      "name": "julia-1.8",
      "display_name": "Julia 1.8.5",
      "language": "julia"
    },
    "language_info": {
      "name": "julia",
      "file_extension": ".jl",
      "mimetype": "application/julia",
      "version": "1.8.5"
    }
  }
}