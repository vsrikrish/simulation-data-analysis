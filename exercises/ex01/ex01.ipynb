{
  "cells": [
    {
      "cell_type": "markdown",
      "metadata": {},
      "source": [
        "# Exercise Set 01: Loading, Plotting, and Reasoning About Data\n",
        "\n",
        "BEE 4850/5850, Fall 2024\n",
        "\n",
        "**Name**:\n",
        "\n",
        "**ID**:\n",
        "\n",
        "> **Due Date**\n",
        ">\n",
        "> Friday, 2/2/24, 9:00pm\n",
        "\n",
        "## Overview"
      ],
      "id": "6e64d367-c0dd-40a4-8f31-d46e928330f9"
    },
    {
      "cell_type": "markdown",
      "metadata": {},
      "source": [
        "### Instructions\n",
        "\n",
        "The goal of this exercise is for you to practice (or learn how to) load\n",
        "data from tabular data files, plot it, and do some basic reasoning about\n",
        "the data and relationships between variables."
      ],
      "id": "286eb45c-191b-4cb1-bbbe-5b92de5f99f1"
    },
    {
      "cell_type": "markdown",
      "metadata": {},
      "source": [
        "### Load Environment\n",
        "\n",
        "The following code loads the environment and makes sure all needed\n",
        "packages are installed. This should be at the start of most Julia\n",
        "scripts."
      ],
      "id": "dc140aa7-08c3-4327-bc9a-25fb7ef060f1"
    },
    {
      "cell_type": "code",
      "execution_count": 1,
      "metadata": {},
      "outputs": [],
      "source": [
        "import Pkg\n",
        "Pkg.activate(@__DIR__)\n",
        "Pkg.instantiate()"
      ],
      "id": "8eb9b2d4"
    },
    {
      "cell_type": "markdown",
      "metadata": {},
      "source": [
        "The following packages are included in the environment (to help you find\n",
        "other similar packages in other languages). The code below loads these\n",
        "packages for use in the subsequent notebook (the desired functionality\n",
        "for each package is commented next to the package)."
      ],
      "id": "0220f188-ef09-4521-b83a-c81389c7ca30"
    },
    {
      "cell_type": "code",
      "execution_count": 2,
      "metadata": {},
      "outputs": [],
      "source": [
        "using DataFrames # tabular data structure\n",
        "using CSVFiles # reads/writes .csv files\n",
        "using Plots # plotting library\n",
        "using StatsBase # statistical quantities like mean, median, etc\n",
        "using StatsPlots # some additional statistical plotting tools"
      ],
      "id": "70f55c05"
    },
    {
      "cell_type": "markdown",
      "metadata": {},
      "source": [
        "## Problems\n",
        "\n",
        "The goal of this exercise is for you to visualize and reason about the\n",
        "relationship between global mean surface temperature and global mean sea\n",
        "levels.\n",
        "\n",
        "Problems 1 and 2 are both marked out of 5 points."
      ],
      "id": "fb0363d0-a00f-4934-90e2-82b3f17bab7f"
    },
    {
      "cell_type": "markdown",
      "metadata": {},
      "source": [
        "### Problem 1\n",
        "\n",
        "Load the data from the `data/` folder:\n",
        "\n",
        "-   Global mean temperature data from the HadCRUT 5.0.2.0 dataset\n",
        "    (<https://hadobs.metoffice.gov.uk/hadcrut5/data/HadCRUT.5.0.2.0/download.html>)\n",
        "    can be found in\n",
        "    `data/HadCRUT.5.0.2.0.analysis.summary_series.global.annual.csv`.\n",
        "    This data is averaged over the Northern and Southern Hemispheres and\n",
        "    over the whole year.\n",
        "\n",
        "    > **Global Mean Temperature Anomalies**\n",
        "    >\n",
        "    > Global mean temperatures are typically represented as an *anomaly*\n",
        "    > from a certain reference or baseline period (in the case of\n",
        "    > HadCRUT5, the average surface temperature from 1961–1990). The\n",
        "    > climate change projections used by the Intergovernmental Panel on\n",
        "    > Climate Change typically use a “pre-industrial” baseline period\n",
        "    > from the 19th century, though specifics can also change.\n",
        "\n",
        "-   Global mean sea level anomalies (relative to the 1990 mean global\n",
        "    sea level) are in `data/CSIRO_Recons_gmsl_yr_2015.csv`, courtesy of\n",
        "    CSIRO (<https://www.cmar.csiro.au/sealevel/sl_data_cmar.html>).\n",
        "\n",
        "After loading the data, create a combined data structure (like a\n",
        "`DataFrame` in Julia or Python/Pandas, or a `data.frame` in R) with\n",
        "columns corresponding to the year, the estimated global mean temperature\n",
        "anomaly, and the estimated global mean sea level anomaly. Note that the\n",
        "years may need some adjustment to get them to match due to decimals.\n",
        "Then plot the two data series (not necessarily on the same axis; you can\n",
        "decide how to best present the data)."
      ],
      "id": "2daa9a82-19bc-4b0a-a926-463f5bd21dea"
    },
    {
      "cell_type": "markdown",
      "metadata": {},
      "source": [
        "### Problem 2\n",
        "\n",
        "What hypotheses can you draw about the relationship between global mean\n",
        "temperature and global mean sea level? Explain your reasoning for those\n",
        "hypotheses (they don’t have to be mechanistically motivated and can be\n",
        "based on a statistical or visual analysis). Propose two different\n",
        "mathematical models (which could consist of one or multiple equations)\n",
        "which encode those hypotheses."
      ],
      "id": "105180f4-f80e-429c-9433-440550b13ebf"
    },
    {
      "cell_type": "markdown",
      "metadata": {},
      "source": [
        "## References"
      ],
      "id": "7d93ecf4-a938-4c8d-ab7d-6182018c2593"
    }
  ],
  "nbformat": 4,
  "nbformat_minor": 5,
  "metadata": {
    "kernelspec": {
      "name": "julia-1.9",
      "display_name": "Julia 1.9.4",
      "language": "julia"
    },
    "language_info": {
      "name": "julia",
      "file_extension": ".jl",
      "mimetype": "application/julia",
      "version": "1.9.4"
    }
  }
}