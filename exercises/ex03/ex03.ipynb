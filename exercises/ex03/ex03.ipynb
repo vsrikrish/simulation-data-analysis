{
  "cells": [
    {
      "cell_type": "markdown",
      "metadata": {},
      "source": [
        "# Exercise Set 03: Spurious Correlations\n",
        "\n",
        "BEE 4850/5850, Fall 2024\n",
        "\n",
        "**Name**:\n",
        "\n",
        "**ID**:\n",
        "\n",
        "> **Due Date**\n",
        ">\n",
        "> Friday, 2/9/24, 9:00pm\n",
        "\n",
        "## Overview"
      ],
      "id": "004cf9f2-2640-4341-86b2-5f98575d61e7"
    },
    {
      "cell_type": "markdown",
      "metadata": {},
      "source": [
        "### Instructions\n",
        "\n",
        "The goal of this exercise is for you to find datasets and reason about\n",
        "the relationships (or lack thereof!) between variables."
      ],
      "id": "35c8fc57-c63b-48c2-b367-d8509768617b"
    },
    {
      "cell_type": "markdown",
      "metadata": {},
      "source": [
        "### Load Environment\n",
        "\n",
        "The following code loads the environment and makes sure all needed\n",
        "packages are installed. This should be at the start of most Julia\n",
        "scripts."
      ],
      "id": "249da9cd-b0f2-49ca-a9c5-ba0cc5b513c6"
    },
    {
      "cell_type": "code",
      "execution_count": 1,
      "metadata": {},
      "outputs": [],
      "source": [
        "import Pkg\n",
        "Pkg.activate(@__DIR__)\n",
        "Pkg.instantiate()"
      ],
      "id": "e7d954f5"
    },
    {
      "cell_type": "markdown",
      "metadata": {},
      "source": [
        "The following packages are included in the environment (to help you find\n",
        "other similar packages in other languages). The code below loads these\n",
        "packages for use in the subsequent notebook (the desired functionality\n",
        "for each package is commented next to the package)."
      ],
      "id": "f663335f-3490-403d-b4bc-068a2d81dbf4"
    },
    {
      "cell_type": "code",
      "execution_count": 2,
      "metadata": {},
      "outputs": [],
      "source": [
        "using DataFrames # tabular data structure\n",
        "using CSVFiles # reads/writes .csv files\n",
        "using Plots # plotting library\n",
        "using StatsBase # statistical quantities like mean, median, etc\n",
        "using StatsPlots # some additional statistical plotting tools"
      ],
      "id": "4f0073f7"
    },
    {
      "cell_type": "markdown",
      "metadata": {},
      "source": [
        "## Problem\n",
        "\n",
        "Find a single or multiple datasets (don’t just pull from [Spurious\n",
        "Correlations!](https://www.tylervigen.com/spurious-correlations)!) where\n",
        "two or more variables appear to be correlated, but this correlation is\n",
        "likely spurious. Plot the relevant variable(s) and show they are\n",
        "correlated through any needed quantiative and/or qualitative means.\n",
        "Explain why you think the correlation is spurious."
      ],
      "id": "db706059-17d2-43a5-94ab-e591b81e73ea"
    },
    {
      "cell_type": "markdown",
      "metadata": {},
      "source": [
        "## References"
      ],
      "id": "0c109420-3c5d-427d-9663-ddfd6bdf6214"
    }
  ],
  "nbformat": 4,
  "nbformat_minor": 5,
  "metadata": {
    "kernelspec": {
      "name": "julia-1.9",
      "display_name": "Julia 1.9.4",
      "language": "julia"
    },
    "language_info": {
      "name": "julia",
      "file_extension": ".jl",
      "mimetype": "application/julia",
      "version": "1.9.4"
    }
  }
}