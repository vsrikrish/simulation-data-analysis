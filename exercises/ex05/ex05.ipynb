{
  "cells": [
    {
      "cell_type": "markdown",
      "metadata": {},
      "source": [
        "# Exercise Set 05: Good and Bad Visualizations\n",
        "\n",
        "BEE 4850/5850, Fall 2024\n",
        "\n",
        "**Name**:\n",
        "\n",
        "**ID**:\n",
        "\n",
        "> **Due Date**\n",
        ">\n",
        "> Friday, 2/23/24, 9:00pm\n",
        "\n",
        "## Overview"
      ],
      "id": "3b744605-8fe1-4a8b-ac84-d4c92a4da7a1"
    },
    {
      "cell_type": "markdown",
      "metadata": {},
      "source": [
        "### Instructions\n",
        "\n",
        "The goal of this exercise is for you to find and evaluate data\n",
        "visualizations which you think do a particularly good and bad job."
      ],
      "id": "367d2e1e-1273-43ce-b858-3fc1a5b01541"
    },
    {
      "cell_type": "markdown",
      "metadata": {},
      "source": [
        "### Load Environment\n",
        "\n",
        "The following code loads the environment and makes sure all needed\n",
        "packages are installed. This should be at the start of most Julia\n",
        "scripts."
      ],
      "id": "44556b4b-34ed-4bee-a588-ecd886f98b44"
    },
    {
      "cell_type": "code",
      "execution_count": 1,
      "metadata": {},
      "outputs": [],
      "source": [
        "import Pkg\n",
        "Pkg.activate(@__DIR__)\n",
        "Pkg.instantiate()"
      ],
      "id": "6fb81dbd"
    },
    {
      "cell_type": "markdown",
      "metadata": {},
      "source": [
        "The following packages are included in the environment (to help you find\n",
        "other similar packages in other languages). The code below loads these\n",
        "packages for use in the subsequent notebook (the desired functionality\n",
        "for each package is commented next to the package)."
      ],
      "id": "fff237b3-c033-4996-9a79-c3f8e828a073"
    },
    {
      "cell_type": "code",
      "execution_count": 2,
      "metadata": {},
      "outputs": [],
      "source": [
        "using DataFrames # tabular data structure\n",
        "using CSVFiles # reads/writes .csv files\n",
        "using Plots # plotting library\n",
        "using StatsBase # statistical quantities like mean, median, etc\n",
        "using StatsPlots # some additional statistical plotting tools"
      ],
      "id": "afd70094"
    },
    {
      "cell_type": "markdown",
      "metadata": {},
      "source": [
        "## Problem\n",
        "\n",
        "Find an example of a data visualization (could be from any reasonable\n",
        "source: journalism, a scientific paper, generated from data) that you\n",
        "think does a particularly good job of communicating something about the\n",
        "underlying data, and one which does a particularly bad job. Write a\n",
        "brief summary (one paragraph) for each about what the visualization is\n",
        "trying to communicate and what makes it (in)effective. Make sure to\n",
        "include where I can find a raw version of the figure (or if you\n",
        "generated it yourself) which is higher-resolution for use in the class\n",
        "discussion next week."
      ],
      "id": "65f81c54-697c-4fe9-be2b-1957e0a707d3"
    },
    {
      "cell_type": "markdown",
      "metadata": {},
      "source": [
        "## References"
      ],
      "id": "75d03e38-d0ba-4814-b7bb-5608ed6dedaf"
    }
  ],
  "nbformat": 4,
  "nbformat_minor": 5,
  "metadata": {
    "kernelspec": {
      "name": "julia-1.9",
      "display_name": "Julia 1.9.4",
      "language": "julia"
    },
    "language_info": {
      "name": "julia",
      "file_extension": ".jl",
      "mimetype": "application/julia",
      "version": "1.9.4"
    }
  }
}