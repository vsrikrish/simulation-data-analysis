{
  "cells": [
    {
      "cell_type": "markdown",
      "metadata": {},
      "source": [
        "# Exercise Set 05: Good and Bad Visualizations\n",
        "\n",
        "BEE 4850/5850, Fall 2024\n",
        "\n",
        "**Name**:\n",
        "\n",
        "**ID**:\n",
        "\n",
        "> **Due Date**\n",
        ">\n",
        "> Friday, 2/23/24, 9:00pm\n",
        "\n",
        "## Overview"
      ],
      "id": "4064d378-2204-4406-a226-df208102c952"
    },
    {
      "cell_type": "markdown",
      "metadata": {},
      "source": [
        "### Instructions\n",
        "\n",
        "The goal of this exercise is for you to find and evaluate data\n",
        "visualizations which you think do a particularly good and bad job."
      ],
      "id": "89d55c7d-795f-4e59-844c-d645d631a3f1"
    },
    {
      "cell_type": "markdown",
      "metadata": {},
      "source": [
        "### Load Environment\n",
        "\n",
        "The following code loads the environment and makes sure all needed\n",
        "packages are installed. This should be at the start of most Julia\n",
        "scripts."
      ],
      "id": "c184d56e-917f-449e-8502-e4dd44197615"
    },
    {
      "cell_type": "code",
      "execution_count": 1,
      "metadata": {},
      "outputs": [],
      "source": [
        "import Pkg\n",
        "Pkg.activate(@__DIR__)\n",
        "Pkg.instantiate()"
      ],
      "id": "a05c7f55"
    },
    {
      "cell_type": "markdown",
      "metadata": {},
      "source": [
        "The following packages are included in the environment (to help you find\n",
        "other similar packages in other languages). The code below loads these\n",
        "packages for use in the subsequent notebook (the desired functionality\n",
        "for each package is commented next to the package)."
      ],
      "id": "00edcea9-2cb4-4a77-9f2c-15d9db74be81"
    },
    {
      "cell_type": "code",
      "execution_count": 2,
      "metadata": {},
      "outputs": [],
      "source": [
        "using DataFrames # tabular data structure\n",
        "using CSVFiles # reads/writes .csv files\n",
        "using Plots # plotting library\n",
        "using StatsBase # statistical quantities like mean, median, etc\n",
        "using StatsPlots # some additional statistical plotting tools"
      ],
      "id": "e88003ae"
    },
    {
      "cell_type": "markdown",
      "metadata": {},
      "source": [
        "## Problem\n",
        "\n",
        "Find an example of a data visualization (could be from any reasonable\n",
        "source: journalism, a scientific paper, generated from data) that you\n",
        "think does a particularly good job of communicating something about the\n",
        "underlying data, and one which does a particularly bad job. Write a\n",
        "brief summary (one paragraph) for each about what the visualization is\n",
        "trying to communicate and what makes it (in)effective. Make sure to\n",
        "include where I can find a raw version of the figure (or if you\n",
        "generated it yourself) which is higher-resolution for use in the class\n",
        "discussion next week."
      ],
      "id": "24ba3bac-8731-46c2-a557-71d8f3d76352"
    },
    {
      "cell_type": "markdown",
      "metadata": {},
      "source": [
        "## References"
      ],
      "id": "18f5c5d5-f803-4a11-869e-a3e8e6f949fb"
    }
  ],
  "nbformat": 4,
  "nbformat_minor": 5,
  "metadata": {
    "kernelspec": {
      "name": "julia-1.9",
      "display_name": "Julia 1.9.4",
      "language": "julia"
    },
    "language_info": {
      "name": "julia",
      "file_extension": ".jl",
      "mimetype": "application/julia",
      "version": "1.9.4"
    }
  }
}