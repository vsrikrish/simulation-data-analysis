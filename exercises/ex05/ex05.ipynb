{
  "cells": [
    {
      "cell_type": "markdown",
      "metadata": {},
      "source": [
        "# Exercise Set 05: Good and Bad Visualizations\n",
        "\n",
        "BEE 4850/5850, Fall 2024\n",
        "\n",
        "**Name**:\n",
        "\n",
        "**ID**:\n",
        "\n",
        "> **Due Date**\n",
        ">\n",
        "> Friday, 2/23/24, 9:00pm\n",
        "\n",
        "## Overview"
      ],
      "id": "10b07c38-9fec-4d6c-a87e-eef208a4490a"
    },
    {
      "cell_type": "markdown",
      "metadata": {},
      "source": [
        "### Instructions\n",
        "\n",
        "The goal of this exercise is for you to find and evaluate data\n",
        "visualizations which you think do a particularly good and bad job."
      ],
      "id": "79038f10-d7ef-4b4c-976e-6ad65e75dfad"
    },
    {
      "cell_type": "markdown",
      "metadata": {},
      "source": [
        "### Load Environment\n",
        "\n",
        "The following code loads the environment and makes sure all needed\n",
        "packages are installed. This should be at the start of most Julia\n",
        "scripts."
      ],
      "id": "60cae3e8-f9d3-4fb8-9b58-c42ecb47b239"
    },
    {
      "cell_type": "code",
      "execution_count": 1,
      "metadata": {},
      "outputs": [],
      "source": [
        "import Pkg\n",
        "Pkg.activate(@__DIR__)\n",
        "Pkg.instantiate()"
      ],
      "id": "f28ad8f8"
    },
    {
      "cell_type": "markdown",
      "metadata": {},
      "source": [
        "The following packages are included in the environment (to help you find\n",
        "other similar packages in other languages). The code below loads these\n",
        "packages for use in the subsequent notebook (the desired functionality\n",
        "for each package is commented next to the package)."
      ],
      "id": "740d3bd1-eba6-4f86-90f4-b265aab09106"
    },
    {
      "cell_type": "code",
      "execution_count": 2,
      "metadata": {},
      "outputs": [],
      "source": [
        "using DataFrames # tabular data structure\n",
        "using CSVFiles # reads/writes .csv files\n",
        "using Plots # plotting library\n",
        "using StatsBase # statistical quantities like mean, median, etc\n",
        "using StatsPlots # some additional statistical plotting tools"
      ],
      "id": "6f919a93"
    },
    {
      "cell_type": "markdown",
      "metadata": {},
      "source": [
        "## Problem\n",
        "\n",
        "Find an example of a data visualization (could be from any reasonable\n",
        "source: journalism, a scientific paper, generated from data) that you\n",
        "think does a particularly good job of communicating something about the\n",
        "underlying data, and one which does a particularly bad job. Write a\n",
        "brief summary (one paragraph) for each about what the visualization is\n",
        "trying to communicate and what makes it (in)effective. Make sure to\n",
        "include where I can find a raw version of the figure (or if you\n",
        "generated it yourself) which is higher-resolution for use in the class\n",
        "discussion next week."
      ],
      "id": "f9ecc968-1c54-4bf2-aeaa-6269138bf6d3"
    },
    {
      "cell_type": "markdown",
      "metadata": {},
      "source": [
        "## References"
      ],
      "id": "69662738-157a-4dd5-bfcd-06a876a7dc2d"
    }
  ],
  "nbformat": 4,
  "nbformat_minor": 5,
  "metadata": {
    "kernelspec": {
      "name": "julia-1.9",
      "display_name": "Julia 1.9.4",
      "language": "julia"
    },
    "language_info": {
      "name": "julia",
      "file_extension": ".jl",
      "mimetype": "application/julia",
      "version": "1.9.4"
    }
  }
}