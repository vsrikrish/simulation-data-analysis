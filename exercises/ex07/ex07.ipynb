{
  "cells": [
    {
      "cell_type": "markdown",
      "metadata": {},
      "source": [
        "# Exercise Set 07: Monte Carlo Simulations\n",
        "\n",
        "BEE 4850/5850, Fall 2024\n",
        "\n",
        "**Name**:\n",
        "\n",
        "**ID**:\n",
        "\n",
        "> **Due Date**\n",
        ">\n",
        "> Friday, 3/08/24, 9:00pm\n",
        "\n",
        "## Overview"
      ],
      "id": "ffdd58d1-ee8d-44b3-b9e1-8564d4c36b8c"
    },
    {
      "cell_type": "markdown",
      "metadata": {},
      "source": [
        "### Instructions\n",
        "\n",
        "The goal of this exercise is for you to explore how sensitive Monte\n",
        "Carlo estimates can be to the underlying probability distribution(s)."
      ],
      "id": "9f0c307f-29bc-4e3b-b7c4-5f0d9ca5a1c3"
    },
    {
      "cell_type": "markdown",
      "metadata": {},
      "source": [
        "### Load Environment\n",
        "\n",
        "The following code loads the environment and makes sure all needed\n",
        "packages are installed. This should be at the start of most Julia\n",
        "scripts."
      ],
      "id": "2b8529dd-ea3f-4076-b3b5-193aec7c66a3"
    },
    {
      "cell_type": "code",
      "execution_count": 1,
      "metadata": {},
      "outputs": [],
      "source": [
        "import Pkg\n",
        "Pkg.activate(@__DIR__)\n",
        "Pkg.instantiate()"
      ],
      "id": "8e03b697"
    },
    {
      "cell_type": "markdown",
      "metadata": {},
      "source": [
        "The following packages are included in the environment (to help you find\n",
        "other similar packages in other languages). The code below loads these\n",
        "packages for use in the subsequent notebook (the desired functionality\n",
        "for each package is commented next to the package)."
      ],
      "id": "cb9d6bcf-b941-49a3-8e9f-be20b9ac7b0f"
    },
    {
      "cell_type": "code",
      "execution_count": 2,
      "metadata": {},
      "outputs": [],
      "source": [
        "using Distributions # API to work with statistical distributions\n",
        "using Plots # plotting library\n",
        "using StatsBase # statistical quantities like mean, median, etc\n",
        "using StatsPlots # some additional statistical plotting tools"
      ],
      "id": "978aaff2"
    },
    {
      "cell_type": "markdown",
      "metadata": {},
      "source": [
        "## Problems"
      ],
      "id": "ddd9a145-a9d6-43a7-8481-874b24665717"
    },
    {
      "cell_type": "markdown",
      "metadata": {},
      "source": [
        "### Problem 1"
      ],
      "id": "27e9e0f6-75fb-49e5-b8f2-671b739c67d4"
    },
    {
      "cell_type": "markdown",
      "metadata": {},
      "source": [
        "A common engineering problem is to quantify flood risk, which is\n",
        "typically computed by propagating a flood hazard distribution through a\n",
        "*depth-damage function* relating flood depths to economic damages. A\n",
        "reasonable depth-damage function is a bounded logistic function,\n",
        "$$d(h) = \\mathbb{1}_{x > 0} \\frac{L}{1 + \\exp(-k (x - x_0))},$$\n",
        "\n",
        "where $d$ is the damage as a percent of total structure value, $h$ is\n",
        "the water depth in m, $\\mathbb{1}_{x > 0}$ is the indicator function,\n",
        "$L$ is the maximum loss in USD, $k$ is the slope of the depth-damage\n",
        "relationship, and $x_0$ is the inflection point. We’ll assume\n",
        "$L=\\$200,000$, $k=0.75$, and $x_0=4$.\n",
        "\n",
        "For this problem, suppose that we have two different probability\n",
        "distributions characterizing annual maxima flood depths:\n",
        "\n",
        "1.  $h \\sim LogNormal(1.5, 0.25)$;\n",
        "2.  $h \\sim GEV(4.5, 1.5, 0.3)$.\n",
        "\n",
        "To control for the variances in different programming languages and how\n",
        "they implement both the LogNormal and GEV distributions, match your\n",
        "distributions to <a href=\"#fig-dists\" class=\"quarto-xref\">Figure 1</a>."
      ],
      "id": "9906059a-1564-4746-8b34-e9055c77408e"
    },
    {
      "cell_type": "code",
      "execution_count": 3,
      "metadata": {
        "fig-format": "png"
      },
      "outputs": [],
      "source": [
        "plot(LogNormal(1.5, 0.3), xlims=(0, 10), xlabel=\"Annual Maximum Flood Depth\", ylabel=\"Probability Density\", label=\"LogNormal(1.5, 0.25)\")\n",
        "plot!(GeneralizedExtremeValue(4.5, 1.5, 0.3), label=\"GEV(4.5, 1.5, 0.3)\")"
      ],
      "id": "cell-fig-dists"
    },
    {
      "cell_type": "markdown",
      "metadata": {},
      "source": [
        "What are the Monte Carlo estimates of the expected value and the 99%\n",
        "quantile for the annual maximum damage the structure would suffer for\n",
        "each of these flood hazard distributions? How did you ensure your sample\n",
        "size was sufficiently large? Why do you think the estimates differed or\n",
        "did not differ?\n",
        "\n",
        "## References"
      ],
      "id": "2490cb8b-6f3a-42f1-a83b-c6174032232e"
    }
  ],
  "nbformat": 4,
  "nbformat_minor": 5,
  "metadata": {
    "kernelspec": {
      "name": "julia-1.9",
      "display_name": "Julia 1.9.4",
      "language": "julia"
    },
    "language_info": {
      "name": "julia",
      "file_extension": ".jl",
      "mimetype": "application/julia",
      "version": "1.9.4"
    }
  }
}