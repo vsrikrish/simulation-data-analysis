{
  "cells": [
    {
      "cell_type": "markdown",
      "metadata": {},
      "source": [
        "# Exercise Set 04: Distributions and Extreme Values\n",
        "\n",
        "BEE 4850/5850, Fall 2024\n",
        "\n",
        "**Name**:\n",
        "\n",
        "**ID**:\n",
        "\n",
        "> **Due Date**\n",
        ">\n",
        "> Friday, 2/16/24, 9:00pm\n",
        "\n",
        "## Overview"
      ],
      "id": "9aaca4c0-9d6f-4cae-93e5-5bfa3d66d320"
    },
    {
      "cell_type": "markdown",
      "metadata": {},
      "source": [
        "### Instructions\n",
        "\n",
        "The goal of this exercise is for you to explore how distributional\n",
        "assumptions can influence estimates of extreme values and return levels."
      ],
      "id": "8273ad4a-43ef-4e60-8225-83a00df10ea5"
    },
    {
      "cell_type": "markdown",
      "metadata": {},
      "source": [
        "### Load Environment\n",
        "\n",
        "The following code loads the environment and makes sure all needed\n",
        "packages are installed. This should be at the start of most Julia\n",
        "scripts."
      ],
      "id": "79cf9992-ebba-4f07-8ec1-651ba103b9b4"
    },
    {
      "cell_type": "code",
      "execution_count": 1,
      "metadata": {},
      "outputs": [],
      "source": [
        "import Pkg\n",
        "Pkg.activate(@__DIR__)\n",
        "Pkg.instantiate()"
      ],
      "id": "5d47c47c"
    },
    {
      "cell_type": "markdown",
      "metadata": {},
      "source": [
        "The following packages are included in the environment (to help you find\n",
        "other similar packages in other languages). The code below loads these\n",
        "packages for use in the subsequent notebook (the desired functionality\n",
        "for each package is commented next to the package)."
      ],
      "id": "22a53bcf-ab25-45c1-88a9-6bda466d27f3"
    },
    {
      "cell_type": "code",
      "execution_count": 2,
      "metadata": {},
      "outputs": [],
      "source": [
        "using DataFrames # tabular data structure\n",
        "using Distributions # API to work with statistical distributions\n",
        "using Plots # plotting library\n",
        "using StatsBase # statistical quantities like mean, median, etc\n",
        "using StatsPlots # some additional statistical plotting tools\n",
        "using Optim # optimization tools"
      ],
      "id": "424949ba"
    },
    {
      "cell_type": "markdown",
      "metadata": {},
      "source": [
        "## Problems\n",
        "\n",
        "### Problem 1\n",
        "\n",
        "We represent an experimental data-generating process by finding the\n",
        "maximum value of 100 draws from $\\mathcal{N}(2.5, 10)$. Repeat this\n",
        "experiment 1,000 times and plot the histogram of resulting maxima. What\n",
        "can you conclude about the distribution of the maxima?"
      ],
      "id": "e929b66b-624a-43fb-bfff-36b5885fb5bf"
    },
    {
      "cell_type": "markdown",
      "metadata": {},
      "source": [
        "### Problem 2\n",
        "\n",
        "Fit (through maximum likelihood) the following distributions to your\n",
        "data from Problem 1.\n",
        "\n",
        "1.  A Normal (`Normal`) distribution;\n",
        "2.  A Cauchy (`Cauchy`) distribution;\n",
        "3.  A Weibull (`Weibull`) distribution;\n",
        "4.  A Fréchet (`Frechet`) distribution."
      ],
      "id": "d9912bec-40b4-4fd3-af98-163d86f9d407"
    },
    {
      "cell_type": "markdown",
      "metadata": {},
      "source": [
        "> **Note**\n",
        ">\n",
        "> As we will talk about next week, the Weibull and Fréchet distributions\n",
        "> are special cases of a Generalized Extreme Value (GEV) distribution.\n",
        "> But more on this later!"
      ],
      "id": "8cee8c92-09e1-4d68-9aa5-80bd656a3f99"
    },
    {
      "cell_type": "markdown",
      "metadata": {},
      "source": [
        "How well do they fit the distribution of maxima (plot the fitted\n",
        "distributions over your histogram in one or more plots, use Q-Q plots,\n",
        "etc.)? What is the return level associated with an exceedance\n",
        "probability of 0.01, and how does this compare to the observed quantile?\n",
        "Which distributional fit do you prefer and why?"
      ],
      "id": "f0e9b890-efe7-4265-aa32-d841effd2e95"
    },
    {
      "cell_type": "markdown",
      "metadata": {},
      "source": [
        "## References"
      ],
      "id": "54cff6f7-bcb6-48fd-b2b1-9244c54f439f"
    }
  ],
  "nbformat": 4,
  "nbformat_minor": 5,
  "metadata": {
    "kernelspec": {
      "name": "julia-1.9",
      "display_name": "Julia 1.9.4",
      "language": "julia"
    },
    "language_info": {
      "name": "julia",
      "file_extension": ".jl",
      "mimetype": "application/julia",
      "version": "1.9.4"
    }
  }
}