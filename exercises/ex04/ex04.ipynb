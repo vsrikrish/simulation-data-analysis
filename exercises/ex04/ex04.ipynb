{
  "cells": [
    {
      "cell_type": "markdown",
      "metadata": {},
      "source": [
        "# Exercise Set 04: Distributions and Extreme Values\n",
        "\n",
        "BEE 4850/5850, Fall 2024\n",
        "\n",
        "**Name**:\n",
        "\n",
        "**ID**:\n",
        "\n",
        "> **Due Date**\n",
        ">\n",
        "> Friday, 2/16/24, 9:00pm\n",
        "\n",
        "## Overview"
      ],
      "id": "e6b95820-65f0-4432-b8b4-95d2486b256d"
    },
    {
      "cell_type": "markdown",
      "metadata": {},
      "source": [
        "### Instructions\n",
        "\n",
        "The goal of this exercise is for you to explore how distributional\n",
        "assumptions can influence estimates of extreme values and return levels."
      ],
      "id": "5a505660-40bc-40fb-af29-71a9c4807291"
    },
    {
      "cell_type": "markdown",
      "metadata": {},
      "source": [
        "### Load Environment\n",
        "\n",
        "The following code loads the environment and makes sure all needed\n",
        "packages are installed. This should be at the start of most Julia\n",
        "scripts."
      ],
      "id": "f2aab42c-c85f-427c-8b3c-b40f9634181b"
    },
    {
      "cell_type": "code",
      "execution_count": 1,
      "metadata": {},
      "outputs": [],
      "source": [
        "import Pkg\n",
        "Pkg.activate(@__DIR__)\n",
        "Pkg.instantiate()"
      ],
      "id": "877244c3"
    },
    {
      "cell_type": "markdown",
      "metadata": {},
      "source": [
        "The following packages are included in the environment (to help you find\n",
        "other similar packages in other languages). The code below loads these\n",
        "packages for use in the subsequent notebook (the desired functionality\n",
        "for each package is commented next to the package)."
      ],
      "id": "762b9c32-7f28-4640-b483-cd381bf68d3b"
    },
    {
      "cell_type": "code",
      "execution_count": 2,
      "metadata": {},
      "outputs": [],
      "source": [
        "using DataFrames # tabular data structure\n",
        "using Distributions # API to work with statistical distributions\n",
        "using Plots # plotting library\n",
        "using StatsBase # statistical quantities like mean, median, etc\n",
        "using StatsPlots # some additional statistical plotting tools\n",
        "using Optim # optimization tools"
      ],
      "id": "30684f79"
    },
    {
      "cell_type": "markdown",
      "metadata": {},
      "source": [
        "## Problems\n",
        "\n",
        "### Problem 1\n",
        "\n",
        "We represent an experimental data-generating process by finding the\n",
        "maximum value of 100 draws from $\\mathcal{N}(2.5, 10)$. Repeat this\n",
        "experiment 1,000 times and plot the histogram of resulting maxima. What\n",
        "can you conclude about the distribution of the maxima?"
      ],
      "id": "3a854072-b9e2-46ef-90c8-0a0e88f4b7d6"
    },
    {
      "cell_type": "markdown",
      "metadata": {},
      "source": [
        "### Problem 2\n",
        "\n",
        "Fit (through maximum likelihood) the following distributions to your\n",
        "data from Problem 1.\n",
        "\n",
        "1.  A Normal (`Normal`) distribution;\n",
        "2.  A Cauchy (`Cauchy`) distribution;\n",
        "3.  A Weibull (`Weibull`) distribution;\n",
        "4.  A Fréchet (`Frechet`) distribution."
      ],
      "id": "70ee3d96-c7c4-40ce-8fed-ffde4cf9ce23"
    },
    {
      "cell_type": "markdown",
      "metadata": {},
      "source": [
        "> **Note**\n",
        ">\n",
        "> As we will talk about next week, the Weibull and Fréchet distributions\n",
        "> are special cases of a Generalized Extreme Value (GEV) distribution.\n",
        "> But more on this later!"
      ],
      "id": "274bc339-f062-4e73-93eb-7a2ae48bf7fb"
    },
    {
      "cell_type": "markdown",
      "metadata": {},
      "source": [
        "How well do they fit the distribution of maxima (plot the fitted\n",
        "distributions over your histogram in one or more plots, use Q-Q plots,\n",
        "etc.)? What is the return level associated with an exceedance\n",
        "probability of 0.01, and how does this compare to the observed quantile?\n",
        "Which distributional fit do you prefer and why?"
      ],
      "id": "36e68e41-280d-4279-ae29-750ff0619550"
    },
    {
      "cell_type": "markdown",
      "metadata": {},
      "source": [
        "## References"
      ],
      "id": "12842b5a-b3d1-4598-8894-7c7cf64949ea"
    }
  ],
  "nbformat": 4,
  "nbformat_minor": 5,
  "metadata": {
    "kernelspec": {
      "name": "julia-1.9",
      "display_name": "Julia 1.9.4",
      "language": "julia"
    },
    "language_info": {
      "name": "julia",
      "file_extension": ".jl",
      "mimetype": "application/julia",
      "version": "1.9.4"
    }
  }
}