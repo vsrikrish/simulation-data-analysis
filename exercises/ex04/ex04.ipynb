{
  "cells": [
    {
      "cell_type": "markdown",
      "metadata": {},
      "source": [
        "# Exercise Set 04: Distributions and Extreme Values\n",
        "\n",
        "BEE 4850/5850, Fall 2024\n",
        "\n",
        "**Name**:\n",
        "\n",
        "**ID**:\n",
        "\n",
        "> **Due Date**\n",
        ">\n",
        "> Friday, 2/16/24, 9:00pm\n",
        "\n",
        "## Overview"
      ],
      "id": "acf5fc26-5f36-45f8-a33c-e54ad2d03fe9"
    },
    {
      "cell_type": "markdown",
      "metadata": {},
      "source": [
        "### Instructions\n",
        "\n",
        "The goal of this exercise is for you to explore how distributional\n",
        "assumptions can influence estimates of extreme values and return levels."
      ],
      "id": "6c96db73-8443-43d3-a884-773d64f921a0"
    },
    {
      "cell_type": "markdown",
      "metadata": {},
      "source": [
        "### Load Environment\n",
        "\n",
        "The following code loads the environment and makes sure all needed\n",
        "packages are installed. This should be at the start of most Julia\n",
        "scripts."
      ],
      "id": "3221271c-0b1a-4a3e-87ff-047e6823be1d"
    },
    {
      "cell_type": "code",
      "execution_count": 1,
      "metadata": {},
      "outputs": [],
      "source": [
        "import Pkg\n",
        "Pkg.activate(@__DIR__)\n",
        "Pkg.instantiate()"
      ],
      "id": "a8e48f8a"
    },
    {
      "cell_type": "markdown",
      "metadata": {},
      "source": [
        "The following packages are included in the environment (to help you find\n",
        "other similar packages in other languages). The code below loads these\n",
        "packages for use in the subsequent notebook (the desired functionality\n",
        "for each package is commented next to the package)."
      ],
      "id": "75248676-7a13-4268-a9e5-577ecba33461"
    },
    {
      "cell_type": "code",
      "execution_count": 2,
      "metadata": {},
      "outputs": [],
      "source": [
        "using DataFrames # tabular data structure\n",
        "using Distributions # API to work with statistical distributions\n",
        "using Plots # plotting library\n",
        "using StatsBase # statistical quantities like mean, median, etc\n",
        "using StatsPlots # some additional statistical plotting tools\n",
        "using Optim # optimization tools"
      ],
      "id": "0f6f4cc2"
    },
    {
      "cell_type": "markdown",
      "metadata": {},
      "source": [
        "## Problems\n",
        "\n",
        "### Problem 1\n",
        "\n",
        "We represent an experimental data-generating process by finding the\n",
        "maximum value of 100 draws from $\\mathcal{N}(2.5, 10)$. Repeat this\n",
        "experiment 1,000 times and plot the histogram of resulting maxima. What\n",
        "can you conclude about the distribution of the maxima?"
      ],
      "id": "359fa96b-a868-4a4a-b3af-4377b0312230"
    },
    {
      "cell_type": "markdown",
      "metadata": {},
      "source": [
        "### Problem 2\n",
        "\n",
        "Fit (through maximum likelihood) the following distributions to your\n",
        "data from Problem 1.\n",
        "\n",
        "1.  A Normal (`Normal`) distribution;\n",
        "2.  A Cauchy (`Cauchy`) distribution;\n",
        "3.  A Weibull (`Weibull`) distribution;\n",
        "4.  A Fréchet (`Frechet`) distribution."
      ],
      "id": "df5ee99f-1d73-4086-bbfe-a065e8b37e01"
    },
    {
      "cell_type": "markdown",
      "metadata": {},
      "source": [
        "> **Note**\n",
        ">\n",
        "> As we will talk about next week, the Weibull and Fréchet distributions\n",
        "> are special cases of a Generalized Extreme Value (GEV) distribution.\n",
        "> But more on this later!"
      ],
      "id": "e19cd49d-3621-4b87-ad7f-09433a07d5cf"
    },
    {
      "cell_type": "markdown",
      "metadata": {},
      "source": [
        "How well do they fit the distribution of maxima (plot the fitted\n",
        "distributions over your histogram in one or more plots, use Q-Q plots,\n",
        "etc.)? What is the return level associated with an exceedance\n",
        "probability of 0.01, and how does this compare to the observed quantile?\n",
        "Which distributional fit do you prefer and why?"
      ],
      "id": "9cc9fc7d-b3f9-4dac-9801-fb8368d45dc8"
    },
    {
      "cell_type": "markdown",
      "metadata": {},
      "source": [
        "## References"
      ],
      "id": "d28cce80-0e28-4e84-82bd-13bc548c0039"
    }
  ],
  "nbformat": 4,
  "nbformat_minor": 5,
  "metadata": {
    "kernelspec": {
      "name": "julia-1.9",
      "display_name": "Julia 1.9.4",
      "language": "julia"
    },
    "language_info": {
      "name": "julia",
      "file_extension": ".jl",
      "mimetype": "application/julia",
      "version": "1.9.4"
    }
  }
}