{
  "cells": [
    {
      "cell_type": "markdown",
      "metadata": {},
      "source": [
        "# Exercise Set 04: Distributions and Extreme Values\n",
        "\n",
        "BEE 4850/5850, Fall 2024\n",
        "\n",
        "**Name**:\n",
        "\n",
        "**ID**:\n",
        "\n",
        "> **Due Date**\n",
        ">\n",
        "> Friday, 2/16/24, 9:00pm\n",
        "\n",
        "## Overview"
      ],
      "id": "c636a4e2-9044-4b2f-95e8-a73e67aa75a0"
    },
    {
      "cell_type": "markdown",
      "metadata": {},
      "source": [
        "### Instructions\n",
        "\n",
        "The goal of this exercise is for you to explore how distributional\n",
        "assumptions can influence estimates of extreme values and return levels."
      ],
      "id": "3d9bc1b0-5948-4413-9648-85ab61dde135"
    },
    {
      "cell_type": "markdown",
      "metadata": {},
      "source": [
        "### Load Environment\n",
        "\n",
        "The following code loads the environment and makes sure all needed\n",
        "packages are installed. This should be at the start of most Julia\n",
        "scripts."
      ],
      "id": "04fbd259-621e-47fa-8485-8314e50e7d1d"
    },
    {
      "cell_type": "code",
      "execution_count": 1,
      "metadata": {},
      "outputs": [],
      "source": [
        "import Pkg\n",
        "Pkg.activate(@__DIR__)\n",
        "Pkg.instantiate()"
      ],
      "id": "ab025862"
    },
    {
      "cell_type": "markdown",
      "metadata": {},
      "source": [
        "The following packages are included in the environment (to help you find\n",
        "other similar packages in other languages). The code below loads these\n",
        "packages for use in the subsequent notebook (the desired functionality\n",
        "for each package is commented next to the package)."
      ],
      "id": "9c536a7b-5407-486d-88d3-a26026fe02bd"
    },
    {
      "cell_type": "code",
      "execution_count": 2,
      "metadata": {},
      "outputs": [],
      "source": [
        "using DataFrames # tabular data structure\n",
        "using Distributions # API to work with statistical distributions\n",
        "using Plots # plotting library\n",
        "using StatsBase # statistical quantities like mean, median, etc\n",
        "using StatsPlots # some additional statistical plotting tools\n",
        "using Optim # optimization tools"
      ],
      "id": "f0f404f4"
    },
    {
      "cell_type": "markdown",
      "metadata": {},
      "source": [
        "## Problems\n",
        "\n",
        "### Problem 1\n",
        "\n",
        "We represent an experimental data-generating process by finding the\n",
        "maximum value of 100 draws from $\\mathcal{N}(2.5, 10)$. Repeat this\n",
        "experiment 1,000 times and plot the histogram of resulting maxima. What\n",
        "can you conclude about the distribution of the maxima?"
      ],
      "id": "9e591534-9058-48f6-ad06-1fcd8508ec4c"
    },
    {
      "cell_type": "markdown",
      "metadata": {},
      "source": [
        "### Problem 2\n",
        "\n",
        "Fit (through maximum likelihood) the following distributions to your\n",
        "data from Problem 1.\n",
        "\n",
        "1.  A Normal (`Normal`) distribution;\n",
        "2.  A Cauchy (`Cauchy`) distribution;\n",
        "3.  A Weibull (`Weibull`) distribution;\n",
        "4.  A Fréchet (`Frechet`) distribution."
      ],
      "id": "3d22d8d0-332e-426e-ab4e-503634912b50"
    },
    {
      "cell_type": "markdown",
      "metadata": {},
      "source": [
        "> **Note**\n",
        ">\n",
        "> As we will talk about next week, the Weibull and Fréchet distributions\n",
        "> are special cases of a Generalized Extreme Value (GEV) distribution.\n",
        "> But more on this later!"
      ],
      "id": "7d4a7f5d-e414-49c5-8a6c-5ac65f504aef"
    },
    {
      "cell_type": "markdown",
      "metadata": {},
      "source": [
        "How well do they fit the distribution of maxima (plot the fitted\n",
        "distributions over your histogram in one or more plots, use Q-Q plots,\n",
        "etc.)? What is the return level associated with an exceedance\n",
        "probability of 0.01, and how does this compare to the observed quantile?\n",
        "Which distributional fit do you prefer and why?"
      ],
      "id": "e05965b4-39d0-4354-92e6-d6e8494ac567"
    },
    {
      "cell_type": "markdown",
      "metadata": {},
      "source": [
        "## References"
      ],
      "id": "4e258d8d-94fd-4a09-8e2f-55890c31dc6c"
    }
  ],
  "nbformat": 4,
  "nbformat_minor": 5,
  "metadata": {
    "kernelspec": {
      "name": "julia-1.9",
      "display_name": "Julia 1.9.4",
      "language": "julia"
    },
    "language_info": {
      "name": "julia",
      "file_extension": ".jl",
      "mimetype": "application/julia",
      "version": "1.9.4"
    }
  }
}