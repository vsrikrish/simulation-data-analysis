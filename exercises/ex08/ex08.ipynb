{
  "cells": [
    {
      "cell_type": "markdown",
      "metadata": {},
      "source": [
        "# Exercise Set 08: The Bootstrap\n",
        "\n",
        "BEE 4850/5850, Fall 2024\n",
        "\n",
        "**Name**:\n",
        "\n",
        "**ID**:\n",
        "\n",
        "> **Due Date**\n",
        ">\n",
        "> Friday, 3/15/24, 9:00pm\n",
        "\n",
        "## Overview"
      ],
      "id": "dc7a9e1b-7bd7-4058-b071-7f0d75a4569e"
    },
    {
      "cell_type": "markdown",
      "metadata": {},
      "source": [
        "### Instructions\n",
        "\n",
        "The goal of this exercise is for you to explore the differences in the\n",
        "confidence intervals produced by a non-parametric and parametric\n",
        "bootstrap."
      ],
      "id": "c7b17b6c-a4f6-48bc-b8c7-0fd6e998349a"
    },
    {
      "cell_type": "markdown",
      "metadata": {},
      "source": [
        "### Load Environment\n",
        "\n",
        "The following code loads the environment and makes sure all needed\n",
        "packages are installed. This should be at the start of most Julia\n",
        "scripts."
      ],
      "id": "bc695269-5d4c-4d26-9b4b-290489fde4b6"
    },
    {
      "cell_type": "code",
      "execution_count": 1,
      "metadata": {},
      "outputs": [],
      "source": [
        "import Pkg\n",
        "Pkg.activate(@__DIR__)\n",
        "Pkg.instantiate()"
      ],
      "id": "7b4b4e1e"
    },
    {
      "cell_type": "markdown",
      "metadata": {},
      "source": [
        "The following packages are included in the environment (to help you find\n",
        "other similar packages in other languages). The code below loads these\n",
        "packages for use in the subsequent notebook (the desired functionality\n",
        "for each package is commented next to the package)."
      ],
      "id": "550d6f0a-e230-42be-86d2-20eb559ecd35"
    },
    {
      "cell_type": "code",
      "execution_count": 2,
      "metadata": {},
      "outputs": [],
      "source": [
        "using Distributions # API to work with statistical distributions\n",
        "using Plots # plotting library\n",
        "using StatsBase # statistical quantities like mean, median, etc\n",
        "using StatsPlots # some additional statistical plotting tools\n",
        "using DataFrames # tabular data storage\n",
        "using DataFramesMeta # API for chaining DataFrames commands\n",
        "using Dates # datetime API\n",
        "using CSV # read/write CSV files\n",
        "using Random"
      ],
      "id": "eae38b5d"
    },
    {
      "cell_type": "markdown",
      "metadata": {},
      "source": [
        "## Problems\n",
        "\n",
        "### Problem 1\n",
        "\n",
        "Let’s revisit the 2015 Sewell’s Point tide gauge data, which consists of\n",
        "hourly observations and predicted sea-level based on NOAA’s harmonic\n",
        "model, as shown in\n",
        "<a href=\"#fig-norfolk-data\" class=\"quarto-xref\">Figure 1</a>."
      ],
      "id": "baecc637-4479-4bd8-89c6-a5a53b60a8f8"
    },
    {
      "cell_type": "code",
      "execution_count": 3,
      "metadata": {},
      "outputs": [],
      "source": [
        "function load_data(fname)\n",
        "    date_format = \"yyyy-mm-dd HH:MM\"\n",
        "    # this uses the DataFramesMeta package -- it's pretty cool\n",
        "    return @chain fname begin\n",
        "        CSV.File(; dateformat=date_format)\n",
        "        DataFrame\n",
        "        rename(\n",
        "            \"Time (GMT)\" => \"time\", \"Predicted (m)\" => \"harmonic\", \"Verified (m)\" => \"gauge\"\n",
        "        )\n",
        "        @transform :datetime = (Date.(:Date, \"yyyy/mm/dd\") + Time.(:time))\n",
        "        select(:datetime, :gauge, :harmonic)\n",
        "        @transform :weather = :gauge - :harmonic\n",
        "        @transform :month = (month.(:datetime))\n",
        "    end\n",
        "end\n",
        "\n",
        "dat = load_data(\"data/norfolk-hourly-surge-2015.csv\")\n",
        "\n",
        "plot(dat.datetime, dat.gauge; ylabel=\"Gauge Measurement (m)\", label=\"Observed\", legend=:topleft, xlabel=\"Date/Time\", color=:blue)\n",
        "plot!(dat.datetime, dat.harmonic, label=\"Prediction\", color=:orange)"
      ],
      "id": "cell-fig-norfolk-data"
    },
    {
      "cell_type": "markdown",
      "metadata": {},
      "source": [
        "We detrend the data to isolate the weather-induced variability by\n",
        "subtracting the predictions from the observations; the results\n",
        "(following the Julia code) are in `dat[:, :weather]`, visualized in\n",
        "<a href=\"#fig-norfolk-data-detrend\" class=\"quarto-xref\">Figure 2</a>."
      ],
      "id": "32af12b6-1ca8-45fd-b77e-80c4fc9d6958"
    },
    {
      "cell_type": "code",
      "execution_count": 4,
      "metadata": {},
      "outputs": [],
      "source": [
        "plot(dat.datetime, dat.weather; ylabel=\"Gauge Weather Variability (m)\", label=\"Detrended Data\", linewidth=1, legend=:topleft, xlabel=\"Date/Time\")"
      ],
      "id": "cell-fig-norfolk-data-detrend"
    },
    {
      "cell_type": "markdown",
      "metadata": {},
      "source": [
        "We would like to understand the uncertainty in an estimate of the median\n",
        "level of weather-induced variability.\n",
        "\n",
        "**In this problem**:\n",
        "\n",
        "-   Use 1,000 non-parametric bootstrap samples to compute a 95%\n",
        "    confidence interval for the median.\n",
        "-   Assuming the weather-induced variability is independently and\n",
        "    identically distributed according to a normal distribution, compute\n",
        "    a 95% confidence interval using 1,000 parametric bootstrap samples.\n",
        "-   Compare the two confidence intervals.\n",
        "-   What can you say about the bias of the median as an estimator?"
      ],
      "id": "58245577-6b88-4b20-9396-512fbf391046"
    }
  ],
  "nbformat": 4,
  "nbformat_minor": 5,
  "metadata": {
    "kernelspec": {
      "name": "julia-1.9",
      "display_name": "Julia 1.9.4",
      "language": "julia"
    },
    "language_info": {
      "name": "julia",
      "file_extension": ".jl",
      "mimetype": "application/julia",
      "version": "1.9.4"
    }
  }
}