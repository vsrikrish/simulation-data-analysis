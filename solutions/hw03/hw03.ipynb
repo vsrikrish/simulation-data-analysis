{
  "cells": [
    {
      "cell_type": "markdown",
      "metadata": {},
      "source": [
        "# Homework 3 Solutions\n",
        "\n",
        "**Name**:\n",
        "\n",
        "**ID**:\n",
        "\n",
        "> **Due Date**\n",
        ">\n",
        "> Friday, 3/22/24, 9:00pm\n",
        "\n",
        "## Overview"
      ],
      "id": "b555b42c-159f-473a-a72d-806d3be00740"
    },
    {
      "cell_type": "markdown",
      "metadata": {},
      "source": [
        "### Instructions\n",
        "\n",
        "The goal of this homework assignment is to practice developing and\n",
        "working with probability models for data."
      ],
      "id": "c4af0e5d-cd74-4f14-81a8-92641b47a886"
    },
    {
      "cell_type": "markdown",
      "metadata": {},
      "source": [
        "### Learning Outcomes\n",
        "\n",
        "After completing this assignments, students will be able to:\n",
        "\n",
        "-   develop probability models for data and model residuals under a\n",
        "    variety of statistical assumptions;\n",
        "-   evaluate the appropriateness of those assumptions through the use of\n",
        "    qualitative and quantitative evaluations of goodness-of-fit;\n",
        "-   fit a basic Bayesian model to data."
      ],
      "id": "b52c5378-605e-4e4f-b067-531a3a00f886"
    },
    {
      "cell_type": "markdown",
      "metadata": {},
      "source": [
        "### Load Environment\n",
        "\n",
        "The following code loads the environment and makes sure all needed\n",
        "packages are installed. This should be at the start of most Julia\n",
        "scripts."
      ],
      "id": "ea3a6442-f83c-45e5-bc81-2ab2a9abeafb"
    },
    {
      "cell_type": "code",
      "execution_count": 1,
      "metadata": {},
      "outputs": [],
      "source": [
        "import Pkg\n",
        "Pkg.activate(@__DIR__)\n",
        "Pkg.instantiate()"
      ],
      "id": "35985be1"
    },
    {
      "cell_type": "markdown",
      "metadata": {},
      "source": [
        "The following packages are included in the environment (to help you find\n",
        "other similar packages in other languages). The code below loads these\n",
        "packages for use in the subsequent notebook (the desired functionality\n",
        "for each package is commented next to the package)."
      ],
      "id": "d5761625-29bf-4ef8-8b0f-2be0b5f37bf4"
    },
    {
      "cell_type": "code",
      "execution_count": 2,
      "metadata": {},
      "outputs": [],
      "source": [
        "using Random # random number generation and seed-setting\n",
        "using DataFrames # tabular data structure\n",
        "using DataFramesMeta # API which can simplify chains of DataFrames transformations\n",
        "using CSVFiles # reads/writes .csv files\n",
        "using Distributions # interface to work with probability distributions\n",
        "using Plots # plotting library\n",
        "using StatsBase # statistical quantities like mean, median, etc\n",
        "using StatsPlots # some additional statistical plotting tools\n",
        "using Optim # optimization tools\n",
        "using Dates # DateTime structures and interface"
      ],
      "id": "54d48eb8"
    },
    {
      "cell_type": "markdown",
      "metadata": {},
      "source": [
        "## Problems (Total: 30 Points for 4850; 40 for 5850)\n",
        "\n",
        "### Problem 1"
      ],
      "id": "68a3fccd-ff94-4b0c-905c-099c5af53d06"
    },
    {
      "cell_type": "markdown",
      "metadata": {},
      "source": [
        "Consider the [Rahmstorf (2007)](https://doi.org/10.1073/pnas.0907765106)\n",
        "sea-level rise model from [Homework\n",
        "2](https://viveks.me/simulation-data-analysis/assignments/hw02/hw02.html):\n",
        "\n",
        "$$\\frac{dH(t)}{dt} = \\alpha (T(t) - T_0),$$\n",
        "\n",
        "where $T_0$ is the temperature (in $^\\circ C$) where sea-level is in\n",
        "equilibrium ($dH/dt = 0$), and $\\alpha$ is the sea-level rise\n",
        "sensitivity to temperature. Discretizing this equation using the Euler\n",
        "method and using an annual timestep ($\\delta t = 1$), we get\n",
        "$$H(t+1) = H(t) + \\alpha (T(t) - T_0).$$\n",
        "\n",
        "Suppose that we wanted to develop a Bayesian probability model for this\n",
        "problem, assuming independent normal residuals:\n",
        "\n",
        "We might specify the following priors (assuming independence across\n",
        "parameters):\n",
        "\n",
        "-   $T_0 \\sim \\mathcal{N}(-0.5, 0.1)$;\n",
        "-   $\\alpha \\sim \\mathcal{TN}(0, 5; 0, \\infty)$ (truncated normal\n",
        "    between 0 and infinity);\n",
        "-   $H_0 \\sim \\mathcal{N}(-150, 25)$;\n",
        "-   $\\sigma \\sim \\mathcal{TN}(0, 5; 0, \\infty)$\n",
        "\n",
        "**In this problem**:\n",
        "\n",
        "<!-- * Load the data from the `data/` folder -->\n",
        "\n",
        "-   Historical and RCP 8.5 global mean temperatures from NOAA can be\n",
        "    found in `data/NOAA_IPCC_RCPtempsscenarios.csv` (use the fourth\n",
        "    column for the temperature series).\n",
        "-   Global mean sea level anomalies (relative to the 1990 mean global\n",
        "    sea level) are in `data/CSIRO_Recons_gmsl_yr_2015.csv`, courtesy of\n",
        "    CSIRO (<https://www.cmar.csiro.au/sealevel/sl_data_cmar.html>).\n",
        "-   Simulate from the prior predictive distribution. What do you think\n",
        "    about the priors?\n",
        "-   Would you propose new priors? If so, what might they be and why?"
      ],
      "id": "a77d1ad5-d6ba-448d-9531-661093b6e048"
    },
    {
      "cell_type": "markdown",
      "metadata": {},
      "source": [
        "***Solution***:\n",
        "\n",
        "First, let’s load the data."
      ],
      "id": "1a819908-8347-4d8e-84dd-adff9dec244b"
    },
    {
      "cell_type": "code",
      "execution_count": 3,
      "metadata": {},
      "outputs": [
        {
          "output_type": "stream",
          "name": "stderr",
          "text": [
            "┌ Warning: In data/NOAA_IPCC_RCPtempsscenarios.csv line 426 has 0 fields but 13 fields are expected. Skipping row.\n",
            "└ @ TextParse ~/.julia/packages/TextParse/gNKVx/src/csv.jl:382"
          ]
        },
        {
          "output_type": "display_data",
          "metadata": {},
          "data": {
            "text/html": [
              "</div>"
            ]
          }
        }
      ],
      "source": [
        "# load data files\n",
        "slr_data = DataFrame(load(\"data/CSIRO_Recons_gmsl_yr_2015.csv\"))\n",
        "gmt_data = DataFrame(load(\"data/NOAA_IPCC_RCPtempsscenarios.csv\"))\n",
        "slr_data[:, :Time] = slr_data[:, :Time] .- 0.5; # remove 0.5 from Times\n",
        "dat = leftjoin(slr_data, gmt_data, on=\"Time\") # join data frames on time\n",
        "select!(dat, [1, 2, 6])  # drop columns we don't need\n",
        "first(dat, 6)"
      ],
      "id": "c8c60ca7"
    },
    {
      "cell_type": "markdown",
      "metadata": {},
      "source": [
        "Creating the model:"
      ],
      "id": "87fd2366-0195-4850-bab8-d4477af0f013"
    },
    {
      "cell_type": "code",
      "execution_count": 4,
      "metadata": {},
      "outputs": [
        {
          "output_type": "display_data",
          "metadata": {},
          "data": {
            "text/plain": [
              "slr_model (generic function with 1 method)"
            ]
          }
        }
      ],
      "source": [
        "# slr_model: function to simulate sea-level rise from global mean temperature based on the Rahmstorf (2007) model\n",
        "\n",
        "function slr_model(α, T₀, H₀, temp_data)\n",
        "    temp_effect = α .* (temp_data .- T₀)\n",
        "    slr_predict = cumsum(temp_effect) .+ H₀\n",
        "    return slr_predict\n",
        "end"
      ],
      "id": "82db2840"
    },
    {
      "cell_type": "markdown",
      "metadata": {},
      "source": [
        "Now, we can sample from the priors and simulate the prior predictive\n",
        "distributions.\n",
        "\n",
        "-   $T_0 \\sim \\mathcal{N}(-0.5, 0.1)$;\n",
        "-   $\\alpha \\sim \\mathcal{TN}(0, 5; 0, \\infty)$ (truncated normal\n",
        "    between 0 and infinity);\n",
        "-   $H_0 \\sim \\mathcal{N}(-150, 25)$;\n",
        "-   $\\sigma \\sim \\mathcal{TN}(0, 5; 0, \\infty)$"
      ],
      "id": "d0e09297-9dfb-449d-8fc1-5adc22106401"
    },
    {
      "cell_type": "code",
      "execution_count": 5,
      "metadata": {},
      "outputs": [],
      "source": [
        "# set up prior distributions\n",
        "T₀_prior = Normal(-0.5, 0.1)\n",
        "α_prior = truncated(Normal(0, 5), lower=0)\n",
        "H₀_prior = Normal(-150, 25)\n",
        "σ_prior = truncated(Normal(0, 5), lower=0)\n",
        "\n",
        "# sample and simulate\n",
        "n_samples = 10000\n",
        "T₀ = rand(T₀_prior, n_samples)\n",
        "α = rand(α_prior, n_samples)\n",
        "H₀ = rand(H₀_prior, n_samples)\n",
        "σ = rand(σ_prior, n_samples)\n",
        "slr_prior = zeros(n_samples, nrow(dat))\n",
        "for i = 1:n_samples\n",
        "    slr_out = slr_model(α[i], T₀[i], H₀[i], dat[:, 3])\n",
        "    slr_prior[i, :] = slr_out + rand(Normal(0, σ[i]), length(slr_out))\n",
        "end"
      ],
      "id": "901ff4df"
    },
    {
      "cell_type": "markdown",
      "metadata": {},
      "source": [
        "Finally, let’s plot the prior predictive median and 95% quantiles to\n",
        "evaluate how reasonable the priors are."
      ],
      "id": "cc6f0752-3c2f-42d0-90dd-f8d489209404"
    },
    {
      "cell_type": "code",
      "execution_count": 6,
      "metadata": {},
      "outputs": [],
      "source": [
        "# compute quantiles\n",
        "slr_quantile = mapslices(col -> quantile(col, [0.025, 0.5, 0.975]), slr_prior; dims=1)\n",
        "\n",
        "# make plot\n",
        "plot(dat[:, 1], slr_quantile[2, :], ribbon=(slr_quantile[2, :] - slr_quantile[1, :], slr_quantile[3, :] - slr_quantile[2, :]), fillalpha=0.3, label=\"Prior Predictive Distribution\")\n",
        "xlabel!(\"Year\")\n",
        "ylabel!(\"Sea Level Anomaly (mm)\")"
      ],
      "id": "cell-fig-slr-prior"
    },
    {
      "cell_type": "markdown",
      "metadata": {},
      "source": [
        "We can see that later in the period, there is a long upper tail (based\n",
        "on the difference between the 95% quantile and the predictive median).\n",
        "This is actually quite large compared to reasonable ranges of the data\n",
        "and we might want to reduce that prior range. We have a few possible\n",
        "options:\n",
        "\n",
        "1.  Calibrate the model with these priors and check if the posterior\n",
        "    predictive distribution is under-confident;\n",
        "2.  Reduce the prior range of $\\alpha$, as the level of sensitivity\n",
        "    might be too high;\n",
        "3.  Reduce the prior range of $\\sigma$ as the level of noise might be\n",
        "    too large.\n",
        "\n",
        "### Problem 2\n",
        "\n",
        "Following from Problem 1, compare the maximum likelihood and maximum *a\n",
        "posteriori* estimates for the model.\n",
        "\n",
        "**In this problem**:\n",
        "\n",
        "-   Find the MLE and MAP parameter values using the prior distributions\n",
        "    given in Problem 1.\n",
        "-   Plot the median and 95% credible intervals for the hindcasts and the\n",
        "    projections until 2100 under RCP 8.5 (using\n",
        "    `data/NOAA_IPCC_RCPtempsscenarios.csv`; make sure $T_0$ and $H_0$\n",
        "    have the same meaning as in Problem 1!).\n",
        "-   What differences do you observe? What do you attribute these\n",
        "    differences to? What conclusions can you draw about the Bayesian\n",
        "    model?\n",
        "\n",
        "***Solution***:\n",
        "\n",
        "We’ll write the likelihood and posterior functions to use with the\n",
        "optimization."
      ],
      "id": "0d20fa49-361a-48bf-aec3-4b92a5ae623a"
    },
    {
      "cell_type": "code",
      "execution_count": 7,
      "metadata": {},
      "outputs": [
        {
          "output_type": "display_data",
          "metadata": {},
          "data": {
            "text/plain": [
              "slr_logposterior (generic function with 1 method)"
            ]
          }
        }
      ],
      "source": [
        "function slr_loglik(p, slr_dat, temp_dat)\n",
        "    α, T₀, H₀, σ = p # unpack parameter vector\n",
        "    slr_out = slr_model(α, T₀, H₀, temp_dat)\n",
        "    # compute log-likelihood of residuals\n",
        "    ll = sum(logpdf.(Normal(0, σ), slr_out - slr_dat))\n",
        "    return ll\n",
        "end\n",
        "\n",
        "function slr_logpri(p, priors)\n",
        "    lp = sum(logpdf.(priors, p))\n",
        "    return lp\n",
        "end\n",
        "\n",
        "function slr_logposterior(p, priors, slr_dat, temp_dat)\n",
        "    # calculate priors\n",
        "    lp = slr_logpri(p, priors)\n",
        "    # if the log-prior is infinite, no need to calculate \n",
        "    # likelihood\n",
        "    if !isinf(lp)\n",
        "        lp += slr_loglik(p, slr_dat, temp_dat)\n",
        "    end\n",
        "    return lp\n",
        "end"
      ],
      "id": "12a904bb"
    },
    {
      "cell_type": "markdown",
      "metadata": {},
      "source": [
        "Now let’s optimize to find the MAP and MLE."
      ],
      "id": "9c6d55df-7e98-4d4b-8725-7e9248638f3f"
    },
    {
      "cell_type": "code",
      "execution_count": 8,
      "metadata": {},
      "outputs": [
        {
          "output_type": "stream",
          "name": "stdout",
          "text": [
            "p_mle = [2.010077414965397, -0.8025229184401224, -159.10817302477602, 5.894320406013402]\n",
            "p_map = [2.1289464794642696, -0.7571088562895693, -158.07993761256728, 5.888145510877698]"
          ]
        }
      ],
      "source": [
        "# set parameter ranges: α, T₀, H₀, σ\n",
        "lb = [0.0, -5.0, -200.0, 0.0]\n",
        "ub = [10.0, 0.0, 0.0, 10.0]\n",
        "p0 = [5.0, -2.0, -100.0, 5.0]\n",
        "\n",
        "# find the MLE\n",
        "p_mle = Optim.optimize(p -> -slr_loglik(p, dat[:, 2], dat[:, 3]), lb, ub, p0).minimizer\n",
        "@show p_mle;\n",
        "\n",
        "# find the MAP\n",
        "priors = [α_prior, T₀_prior, H₀_prior, σ_prior]\n",
        "p_map = Optim.optimize(p -> -slr_logposterior(p, priors, dat[:, 2], dat[:, 3]), lb, ub, p0).minimizer\n",
        "@show p_map;"
      ],
      "id": "e588ed6b"
    },
    {
      "cell_type": "markdown",
      "metadata": {},
      "source": [
        "Comparing the MLE and the MAP, we can see that they are similar, but the\n",
        "SLR sensitivity $\\alpha$ is slightly higher for the MAP, while the\n",
        "equilibrium temperature $T_0$ and sea-level $H_0$ are slightly lower to\n",
        "compensate. Broadly speaking, these are similar, though, which suggests\n",
        "that the prior has relatively limited influence.\n",
        "\n",
        "Now let’s plot the two projected distributions to see what we get."
      ],
      "id": "0f1db128-545f-4149-9f4c-96cda5b4413d"
    },
    {
      "cell_type": "code",
      "execution_count": 9,
      "metadata": {},
      "outputs": [],
      "source": [
        "temp_idx = indexin(1880:2100, gmt_data.Time) # get the right year indices\n",
        "\n",
        "mle_out = zeros(n_samples, length(temp_idx))\n",
        "map_out = zeros(n_samples, length(temp_idx))\n",
        "\n",
        "# simulate the model\n",
        "mle_sim = slr_model(p_mle[1], p_mle[2], p_mle[3], gmt_data[temp_idx, 4])\n",
        "map_sim = slr_model(p_map[1], p_map[2], p_map[3], gmt_data[temp_idx, 4])\n",
        "# add back in the residuals\n",
        "mle_residuals = rand(Normal(0, p_mle[4]), (n_samples, length(temp_idx)))\n",
        "map_residuals = rand(Normal(0, p_map[4]), (n_samples, length(temp_idx)))\n",
        "\n",
        "mle_out = mapslices(row -> row + mle_sim, mle_residuals; dims=2)\n",
        "map_out = mapslices(row -> row + map_sim, map_residuals; dims=2)\n",
        "\n",
        "# compute quantiles\n",
        "mle_q = mapslices(col -> quantile(col, [0.025, 0.5, 0.975]), mle_out; dims=1)\n",
        "map_q = mapslices(col -> quantile(col, [0.025, 0.5, 0.975]), map_out; dims=1)\n",
        "\n",
        "# plot quantiles\n",
        "plot(gmt_data.Time[temp_idx], mle_q[2, :], ribbon=(mle_q[2, :] - mle_q[1, :], mle_q[3, :] - mle_q[2, :]), color=:blue, fillalpha=0.3, label=\"MLE\")\n",
        "plot!(gmt_data.Time[temp_idx], map_q[2, :], ribbon=(map_q[2, :] - map_q[1, :], map_q[3, :] - map_q[2, :]), color=:green, fillalpha=0.3, label=\"MAP\")\n",
        "# add data\n",
        "scatter!(dat[:, 1], dat[:, 2], color=:orange, label=\"Observations\")"
      ],
      "id": "cell-fig-slr-hind"
    },
    {
      "cell_type": "markdown",
      "metadata": {},
      "source": [
        "The MAP estimate is a little higher, due to the increased $\\alpha$\n",
        "parameter, which resulted from the prior. A more constrained prior might\n",
        "reduce this estimate, which would have the corresponding impact on the\n",
        "projections (which may or may not be appropriate!). As a result, the\n",
        "Bayesian model will be more sensitive to uncertainties in projected\n",
        "temperatures than the maximum-likelihood model.\n",
        "\n",
        "### Problem 3\n",
        "\n",
        "Let’s look at how (modeled) daily maximum temperatures have (or have\n",
        "not) increased in Ithaca from 1850–2014. Model output from NOAA’s\n",
        "GFDL-ESM4 climate model (one of the models used in the latest Climate\n",
        "Model Intercomparison Project,\n",
        "[CMIP6](https://colab.research.google.com/corgiredirector?site=https%3A%2F%2Fcds.climate.copernicus.eu%2Fcdsapp%23%21%2Fdataset%2Fprojections-cmip6%3Ftab%3Doverview))\n",
        "is available in `data/gfdl-esm4-tempmax-ithaca.csv`. While this model\n",
        "output has not been bias-corrected, we won’t worry about that for the\n",
        "purposes of this assignment.\n",
        "\n",
        "**In this problem**:\n",
        "\n",
        "-   Load and plot the temperature maxima data from\n",
        "    `data/gfdl-esm4-tempmax-ithaca.csv`.\n",
        "-   Suppose that we were interested in looking at temperature\n",
        "    exceedances over 28°C. Decluster these occurrences and plot the\n",
        "    number of exceedances by year. Have they increased over time?\n",
        "-   Fit a stationary GPD model for the exceedances. What does this\n",
        "    distribution look like?\n",
        "\n",
        "***Solution***:\n",
        "\n",
        "Let’s load the data and filter for daily maxima above 28°C."
      ],
      "id": "055a2ab4-8b3b-41dd-b0d5-26d9390b2dd6"
    },
    {
      "cell_type": "code",
      "execution_count": 10,
      "metadata": {},
      "outputs": [
        {
          "output_type": "display_data",
          "metadata": {},
          "data": {
            "text/html": [
              "</div>"
            ]
          }
        }
      ],
      "source": [
        "temp_data = DataFrame(load(\"data/gfdl-esm4-tempmax-ithaca.csv\"))\n",
        "temp_high = temp_data[temp_data.TempMax .> 28, :]"
      ],
      "id": "c8c1c5e4"
    },
    {
      "cell_type": "markdown",
      "metadata": {},
      "source": [
        "To decluster, let’s calculate the extremal index using the estimator\n",
        "$$\\hat{\\theta}(u) = \\frac{2\\left(\\sum_{i-1}^{N-1} T_i\\right)^2}{(N-1)\\sum_{i=1}^{N-1}T_i^2}.$$"
      ],
      "id": "1575040d-b81e-46d7-8bc2-8f0af159272c"
    },
    {
      "cell_type": "code",
      "execution_count": 11,
      "metadata": {},
      "outputs": [
        {
          "output_type": "display_data",
          "metadata": {},
          "data": {
            "text/plain": [
              "0.47832378879687915"
            ]
          }
        }
      ],
      "source": [
        "S = findall(temp_data.TempMax .> 28)\n",
        "N = length(S)\n",
        "T = diff(S)\n",
        "θ = 2 * sum(T)^2 / ((N-1) * sum(T.^2))"
      ],
      "id": "de46f2a0"
    },
    {
      "cell_type": "markdown",
      "metadata": {},
      "source": [
        "This means that the declustering time is 2.0 days. Now we want to assign\n",
        "data that is within that period to appropriate clusters. Let’s write a\n",
        "function to do that."
      ],
      "id": "1f056836-6911-43e0-8992-78a443a5f083"
    },
    {
      "cell_type": "code",
      "execution_count": 12,
      "metadata": {},
      "outputs": [
        {
          "output_type": "display_data",
          "metadata": {},
          "data": {
            "text/html": [
              "</div>"
            ]
          }
        }
      ],
      "source": [
        "# cluster data points which occur within period\n",
        "function assign_cluster(dat, period)\n",
        "    cluster_index = 1\n",
        "    clusters = zeros(Int, length(dat))\n",
        "    for i in 1:length(dat)\n",
        "        if clusters[i] == 0\n",
        "            clusters[findall(abs.(dat .- dat[i]) .<= period)] .= cluster_index\n",
        "            cluster_index += 1\n",
        "        end\n",
        "    end\n",
        "    return clusters\n",
        "end\n",
        "\n",
        "# cluster exceedances that occur within a two-day window\n",
        "# @transform is a macro from DataFramesMeta.jl which adds a new column based on a data transformation\n",
        "temp_high = @transform temp_high :cluster = assign_cluster(:Day, Dates.Day(2))\n",
        "# find maximum value within cluster\n",
        "temp_decluster = combine(temp_high -> temp_high[argmax(temp_high.TempMax), :], groupby(temp_high, :cluster))"
      ],
      "id": "2db3fc86"
    },
    {
      "cell_type": "markdown",
      "metadata": {},
      "source": [
        "Now we want to count the number of exceedances by year and plot how\n",
        "these occurrences are changing over time."
      ],
      "id": "7c263ea5-ca46-41a2-a974-cd9a8bc4991d"
    },
    {
      "cell_type": "code",
      "execution_count": 13,
      "metadata": {},
      "outputs": [
        {
          "output_type": "display_data",
          "metadata": {},
          "data": {
            "text/html": [
              "<img src=\"data:image/png;base64,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\" />"
            ]
          }
        }
      ],
      "source": [
        "temp_decluster.Year = year.(temp_decluster.Day)\n",
        "temp_count = combine(groupby(temp_decluster, :Year), nrow)\n",
        "bar(temp_count.Year, temp_count.nrow, label=\"Number of Clusters\")"
      ],
      "id": "9311129d"
    },
    {
      "cell_type": "markdown",
      "metadata": {},
      "source": [
        "Visually, it appears as though there has been an uptick in the number of\n",
        "clusters post-2000, with more years containing 3+ clusters. This would\n",
        "be hard to pull out without a model that depends on a broader warming\n",
        "signal, since the most of the data record looks stationary, so it’s\n",
        "unclear whether this is actually a trend. As a result, we might use\n",
        "stationary Poisson process for the occurrences, or we could try to fit\n",
        "one that was based on a covariate like global mean temperature.\n",
        "\n",
        "Let’s now fit a stationary GPD to see what how the distribution of\n",
        "conditional exceedances looks."
      ],
      "id": "8a356066-c30f-450c-b847-be835e076170"
    },
    {
      "cell_type": "code",
      "execution_count": 14,
      "metadata": {},
      "outputs": [
        {
          "output_type": "display_data",
          "metadata": {},
          "data": {
            "text/plain": [
              "2-element Vector{Float64}:\n",
              "  0.8510410230222454\n",
              " -0.18775785236898537"
            ]
          }
        }
      ],
      "source": [
        "temp_exceedances = temp_high.TempMax .- 28\n",
        "gpd_fit = Optim.optimize(p -> -sum(logpdf(GeneralizedPareto(0.0, p[1], p[2]), temp_exceedances)), [0.0, -Inf], [Inf, Inf], [1.0, 1.0]).minimizer"
      ],
      "id": "29a54086"
    },
    {
      "cell_type": "markdown",
      "metadata": {},
      "source": [
        "Let’s visualize this distribution\n",
        "(<a href=\"#fig-gpd-fit\" class=\"quarto-xref\">Figure 3</a>) and also use a\n",
        "Q-Q plot (<a href=\"#fig-qq-temp\" class=\"quarto-xref\">Figure 4</a>) to\n",
        "see how well if fits the data."
      ],
      "id": "10c0514c-a422-47bb-bdfe-a21a596a457d"
    },
    {
      "cell_type": "code",
      "execution_count": 15,
      "metadata": {},
      "outputs": [],
      "source": [
        "plot(GeneralizedPareto(0.0, gpd_fit[1], gpd_fit[2]) .+ 28)"
      ],
      "id": "cell-fig-gpd-fit"
    },
    {
      "cell_type": "code",
      "execution_count": 16,
      "metadata": {},
      "outputs": [],
      "source": [
        "qqplot(GeneralizedPareto(0.0, gpd_fit[1], gpd_fit[2]), temp_exceedances, xlabel=\"Theoretical Quantile\", ylabel=\"Empirical Quantile\")"
      ],
      "id": "cell-fig-qq-temp"
    },
    {
      "cell_type": "markdown",
      "metadata": {},
      "source": [
        "The fit looks generally good, though the tail of the data may be\n",
        "slightly thinner (“less extreme” extremes) than the GPD fit implies (as\n",
        "there is basically no fitted probability of exceedances at or above\n",
        "31°C).\n",
        "\n",
        "### Problem 4\n",
        "\n",
        "<span style=\"color:red;\">GRADED FOR 5850 STUDENTS ONLY</span>\n",
        "\n",
        "In class, we modeled the annual maxima of the San Francisco tide gauge\n",
        "data using a stationary GEV distribution. We could also hypothesize that\n",
        "the tide extremes are influenced by the [Pacific Decadal Oscillation\n",
        "(PDO)](https://en.wikipedia.org/wiki/Pacific_decadal_oscillation), which\n",
        "is a climate pattern related to the sea-surface temperatures in the\n",
        "Pacific Ocean (similar to the El Niño-Southern Oscillation), in the\n",
        "following fashion (where only the GEV location is variable):\n",
        "\n",
        "$$y_t \\sim \\text{GEV}(\\mu_0 + \\mu_1 p_t, \\sigma, \\xi)$$\n",
        "\n",
        "**In this problem**:\n",
        "\n",
        "-   Load the San Francisco tide gauge data (`data/h551.csv`) and the PDO\n",
        "    index dataset (`data/errst.v5.pdo.dat`; this file is a\n",
        "    space-delimited file, versus the comma-delimited `.csv` files, which\n",
        "    can be loaded in Julia with\n",
        "    `CSV.read(data/errst.v5.pdo.dat, DataFrame; delim=\" \", header=2, ignorerepeated=true)`).\n",
        "    The PDO data is given as monthly values; convert these to yearly\n",
        "    indices by taking the mean. You should also drop 2023 due to the\n",
        "    incomplete record. You can use the function at the bottom of these\n",
        "    instructions to load the data, or adapt accordingly to a different\n",
        "    language.\n",
        "-   Find the MLE of the non-stationary GEV model and for a stationary\n",
        "    GEV (constant $\\mu$; we did this in class).\n",
        "-   Discuss the difference(s) between the two fitted models based on the\n",
        "    coefficient values (you can also bring to bear the range(s) of PDO\n",
        "    values from the data), the 100- and 500-year return periods in 2022,\n",
        "    and plotted hindcasts."
      ],
      "id": "01e5e013-8705-4408-ba53-1cb3c2b7dcd0"
    },
    {
      "cell_type": "code",
      "execution_count": 17,
      "metadata": {},
      "outputs": [
        {
          "output_type": "display_data",
          "metadata": {},
          "data": {
            "text/html": [
              "</div>"
            ]
          }
        }
      ],
      "source": [
        "## load the data from the file and return a DataFrame of DateTime values and gauge measurements\n",
        "\n",
        "function load_pdo(fname)\n",
        "    # This uses the DataFramesMeta.jl package, which makes it easy to string together commands to load and process data\n",
        "    df = DataFrame(CSVFiles.load(File(format\"CSV\", fname), spacedelim=true, skiplines_begin=1))\n",
        "    # take yearly average\n",
        "    @transform!(df, :PDO = mean(AsTable(names(df)[2:13])))\n",
        "    @select!(df, $[:Year, :PDO])\n",
        "    @rsubset!(df, :Year != 2023)\n",
        "    return df\n",
        "end\n",
        "\n",
        "pdo = load_pdo(\"data/ersst.v5.pdo.dat\")\n",
        "# subset for years that match the tide gauge data\n",
        "years = pdo[!, :Year]\n",
        "@rsubset!(pdo, :Year in years)"
      ],
      "id": "084799d1"
    },
    {
      "cell_type": "markdown",
      "metadata": {},
      "source": [
        "***Solution***:\n",
        "\n",
        "We have loaded the PDO data above, now let’s load the tide gauge data"
      ],
      "id": "feda531b-7f5a-41c2-a8f6-7dcf559ee6b4"
    },
    {
      "cell_type": "code",
      "execution_count": 18,
      "metadata": {},
      "outputs": [
        {
          "output_type": "display_data",
          "metadata": {},
          "data": {
            "text/html": [
              "</div>"
            ]
          }
        }
      ],
      "source": [
        "# read in data and get annual maxima\n",
        "function load_data(fname)\n",
        "    date_format = DateFormat(\"yyyy-mm-dd HH:MM:SS\")\n",
        "    df = DataFrame(CSVFiles.load(fname, header_exists=false))\n",
        "    rename!(df, \"Column1\" => \"year\", \"Column2\" => \"month\", \"Column3\" => \"day\", \"Column4\" => \"hour\", \"Column5\" => \"gauge\")\n",
        "        # need to reformat the decimal date in the data file\n",
        "    transform!(df, [:year, :month, :day, :hour] => ByRow(DateTime) => :datetime)\n",
        "    # replace -99999 with missing\n",
        "    df.gauge = ifelse.(abs.(df.gauge) .>= 9999, missing, df.gauge)\n",
        "    select!(df, [:datetime, :gauge])\n",
        "    return df\n",
        "end\n",
        "\n",
        "dat = load_data(\"data/h551.csv\")\n",
        "# detrend the data to remove the effects of sea-level rise and seasonal dynamics\n",
        "ma_length = 366\n",
        "ma_offset = Int(floor(ma_length/2))\n",
        "moving_average(series,n) = [mean(@view series[i-n:i+n]) for i in n+1:length(series)-n]\n",
        "dat_ma = DataFrame(datetime=dat.datetime[ma_offset+1:end-ma_offset], residual=dat.gauge[ma_offset+1:end-ma_offset] .- moving_average(dat.gauge, ma_offset))\n",
        "\n",
        "# group data by year and compute the annual maxima\n",
        "dat_ma = dropmissing(dat_ma) # drop missing data\n",
        "dat_annmax = combine(dat_ma -> dat_ma[argmax(dat_ma.residual), :], groupby(transform(dat_ma, :datetime => x->year.(x)), :datetime_function))\n",
        "delete!(dat_annmax, nrow(dat_annmax)) # delete 2023; haven't seen much of that year yet\n",
        "rename!(dat_annmax, :datetime_function => :Year)\n",
        "select!(dat_annmax, [:Year, :residual])"
      ],
      "id": "45185e55"
    },
    {
      "cell_type": "markdown",
      "metadata": {},
      "source": [
        "Fitting the stationary GEV:"
      ],
      "id": "4157e1cf-bd19-4173-9fd2-d38290bc2452"
    },
    {
      "cell_type": "code",
      "execution_count": 19,
      "metadata": {},
      "outputs": [
        {
          "output_type": "display_data",
          "metadata": {},
          "data": {
            "text/plain": [
              "3-element Vector{Float64}:\n",
              " 1258.7096727508454\n",
              "   56.26648203790703\n",
              "    0.017193689772204646"
            ]
          }
        }
      ],
      "source": [
        "p_stat = Optim.optimize(p -> -sum(logpdf(GeneralizedExtremeValue(p[1], p[2], p[3]), dat_annmax.residual)), [1000.0, 0.0, -5.0], [2000.0, 100.0, 5.0], [1500.0, 50.0, 0.0]).minimizer"
      ],
      "id": "0739f6c1"
    },
    {
      "cell_type": "markdown",
      "metadata": {},
      "source": [
        "The non-stationary GEV differs in that we need to specify a regression\n",
        "model for the location, which involves an additional parameter. One key\n",
        "consideration is the range of the covariate, which would influence what\n",
        "reasonable ranges of $\\mu_0$ and $\\mu_1$ might be. Let’s plot the\n",
        "distribution."
      ],
      "id": "27ef4cf0-827d-4851-bbd3-1f021b529b5e"
    },
    {
      "cell_type": "code",
      "execution_count": 20,
      "metadata": {},
      "outputs": [],
      "source": [
        "histogram(pdo.PDO, legend=false)"
      ],
      "id": "cell-fig-pdo-hist"
    },
    {
      "cell_type": "markdown",
      "metadata": {},
      "source": [
        "Now we need to select a subset of PDO data which aligns with the storm\n",
        "surge years."
      ],
      "id": "452ab356-d2ee-404d-8b31-26f733753c78"
    },
    {
      "cell_type": "code",
      "execution_count": 21,
      "metadata": {},
      "outputs": [
        {
          "output_type": "display_data",
          "metadata": {},
          "data": {
            "text/html": [
              "</div>"
            ]
          }
        }
      ],
      "source": [
        "dat = leftjoin(dat_annmax, pdo, on=\"Year\") # join data frames on time"
      ],
      "id": "3a6bf06b"
    },
    {
      "cell_type": "markdown",
      "metadata": {},
      "source": [
        "Finally, we can set parameter ranges and optimize."
      ],
      "id": "572a6ecf-9117-41db-9a03-41167153af4d"
    },
    {
      "cell_type": "code",
      "execution_count": 22,
      "metadata": {},
      "outputs": [
        {
          "output_type": "display_data",
          "metadata": {},
          "data": {
            "text/plain": [
              "4-element Vector{Float64}:\n",
              " 1198.0884802839644\n",
              "   -7.443921156035661\n",
              "   19.999999999355076\n",
              "    0.5570827787365489"
            ]
          }
        }
      ],
      "source": [
        "lb = [800.0, -100.0, 0.0, -5.0]\n",
        "ub = [2000.0, 100.0, 20.0, 5.0]\n",
        "p0 = [1000.0, 10.0, 1.0, 0.25]\n",
        "\n",
        "p_nonstat = Optim.optimize(p -> -sum(logpdf.(GeneralizedExtremeValue.(p[1] .+ p[2] * dat.PDO, p[3], p[4]), dat.residual)), lb, ub, p0).minimizer"
      ],
      "id": "24a0fe34"
    },
    {
      "cell_type": "markdown",
      "metadata": {},
      "source": [
        "The parameter differences between `p_stat` and `p_nonstat` are quite\n",
        "striking. While the location parameter of the stationary GEV is 1258.71\n",
        "can range between 1180.53 and 1214.73. The stationary model is also more\n",
        "highly skewed (based on the scale parameter), while the non-stationary\n",
        "model has a fatter tail (based on the shape parameter, which is more\n",
        "positive).\n",
        "\n",
        "To see what these parameter differences imply, let’s look at the 100-\n",
        "and 500-year return levels for both models. To do that, we need to\n",
        "create the model objects."
      ],
      "id": "d2ca6e81-af0e-48db-8958-c01dc104b13c"
    },
    {
      "cell_type": "code",
      "execution_count": 23,
      "metadata": {},
      "outputs": [
        {
          "output_type": "display_data",
          "metadata": {},
          "data": {
            "text/plain": [
              "126-element Vector{GeneralizedExtremeValue{Float64}}:\n",
              " GeneralizedExtremeValue{Float64}(μ=1197.0401280544893, σ=19.999999999355076, ξ=0.5570827787365489)\n",
              " GeneralizedExtremeValue{Float64}(μ=1197.393714309401, σ=19.999999999355076, ξ=0.5570827787365489)\n",
              " GeneralizedExtremeValue{Float64}(μ=1200.706259223837, σ=19.999999999355076, ξ=0.5570827787365489)\n",
              " GeneralizedExtremeValue{Float64}(μ=1192.0837172180957, σ=19.999999999355076, ξ=0.5570827787365489)\n",
              " GeneralizedExtremeValue{Float64}(μ=1199.471808965461, σ=19.999999999355076, ξ=0.5570827787365489)\n",
              " GeneralizedExtremeValue{Float64}(μ=1188.9944899383408, σ=19.999999999355076, ξ=0.5570827787365489)\n",
              " GeneralizedExtremeValue{Float64}(μ=1195.9917758250144, σ=19.999999999355076, ξ=0.5570827787365489)\n",
              " GeneralizedExtremeValue{Float64}(μ=1189.453531742963, σ=19.999999999355076, ξ=0.5570827787365489)\n",
              " GeneralizedExtremeValue{Float64}(μ=1187.797259285745, σ=19.999999999355076, ξ=0.5570827787365489)\n",
              " GeneralizedExtremeValue{Float64}(μ=1192.0527008799454, σ=19.999999999355076, ξ=0.5570827787365489)\n",
              " GeneralizedExtremeValue{Float64}(μ=1196.0414019660545, σ=19.999999999355076, ξ=0.5570827787365489)\n",
              " GeneralizedExtremeValue{Float64}(μ=1192.6544178400584, σ=19.999999999355076, ξ=0.5570827787365489)\n",
              " GeneralizedExtremeValue{Float64}(μ=1203.3860708400098, σ=19.999999999355076, ξ=0.5570827787365489)\n",
              " ⋮\n",
              " GeneralizedExtremeValue{Float64}(μ=1211.574384111649, σ=19.999999999355076, ξ=0.5570827787365489)\n",
              " GeneralizedExtremeValue{Float64}(μ=1210.9912769544262, σ=19.999999999355076, ξ=0.5570827787365489)\n",
              " GeneralizedExtremeValue{Float64}(μ=1206.766851698376, σ=19.999999999355076, ξ=0.5570827787365489)\n",
              " GeneralizedExtremeValue{Float64}(μ=1193.9633073099947, σ=19.999999999355076, ξ=0.5570827787365489)\n",
              " GeneralizedExtremeValue{Float64}(μ=1191.2338695527815, σ=19.999999999355076, ξ=0.5570827787365489)\n",
              " GeneralizedExtremeValue{Float64}(μ=1193.0762400389003, σ=19.999999999355076, ξ=0.5570827787365489)\n",
              " GeneralizedExtremeValue{Float64}(μ=1198.7832462585277, σ=19.999999999355076, ξ=0.5570827787365489)\n",
              " GeneralizedExtremeValue{Float64}(μ=1200.8055115059174, σ=19.999999999355076, ξ=0.5570827787365489)\n",
              " GeneralizedExtremeValue{Float64}(μ=1199.23608479552, σ=19.999999999355076, ξ=0.5570827787365489)\n",
              " GeneralizedExtremeValue{Float64}(μ=1206.6117700076252, σ=19.999999999355076, ξ=0.5570827787365489)\n",
              " GeneralizedExtremeValue{Float64}(μ=1212.0396291839013, σ=19.999999999355076, ξ=0.5570827787365489)\n",
              " GeneralizedExtremeValue{Float64}(μ=1213.8323735289798, σ=19.999999999355076, ξ=0.5570827787365489)"
            ]
          }
        }
      ],
      "source": [
        "# set up models\n",
        "gev_stat = GeneralizedExtremeValue(p_stat[1], p_stat[2], p_stat[3])\n",
        "# notice that this is a vector of distributions\n",
        "gev_nonstat = GeneralizedExtremeValue.(p_nonstat[1] .+ p_nonstat[2] * dat.PDO, p_nonstat[3], p_nonstat[4])"
      ],
      "id": "050f726c"
    },
    {
      "cell_type": "markdown",
      "metadata": {},
      "source": [
        "For the stationary model, these are the same every year as the model\n",
        "does not change; the 100-year return level is the 0.99 quantile, which\n",
        "is 1528.06 and the 500-year return level is the 0.998 quantile, which is\n",
        "1627.69. For the non-stationary model, we need to look at this for a\n",
        "given year; we’ll use 2022. In that case, the 100-year return level is\n",
        "1643.58 and the 500-year return level is 2321.91. The more positive\n",
        "shape parameter for the nonstationary model means that these return\n",
        "levels are much more extreme.\n",
        "\n",
        "Let’s look at hindcasts from the two models."
      ],
      "id": "a9499b8f-613f-481f-aa55-11765bdd14e9"
    },
    {
      "cell_type": "code",
      "execution_count": 24,
      "metadata": {},
      "outputs": [],
      "source": [
        "# set up models\n",
        "gev_stat = GeneralizedExtremeValue(p_stat[1], p_stat[2], p_stat[3])\n",
        "# notice that this is a vector of distributions\n",
        "gev_nonstat = GeneralizedExtremeValue.(p_nonstat[1] .+ p_nonstat[2] * dat.PDO, p_nonstat[3], p_nonstat[4])\n",
        "\n",
        "# simulate from the models\n",
        "n_sample = 10_000\n",
        "sim_stat = rand(gev_stat, (n_sample, nrow(dat)))\n",
        "sim_nonstat = zeros(n_sample, nrow(dat))\n",
        "for i in 1:nrow(dat)\n",
        "    sim_nonstat[:, i] = rand(gev_nonstat[i], n_sample)\n",
        "end\n",
        "\n",
        "# compute quantiles\n",
        "q_stat = mapslices(col -> quantile(col, [0.025, 0.5, 0.975]), sim_stat, dims=1)\n",
        "q_nonstat = mapslices(col -> quantile(col, [0.025, 0.5, 0.975]), sim_nonstat, dims=1)\n",
        "\n",
        "# make plot\n",
        "plot(dat.Year, q_stat[2, :], ribbon=(q_stat[2, :] - q_stat[1, :], q_stat[3, :] - q_stat[2, :]), color=:blue, fillalpha=0.3, label=\"Stationary Model\", legend=:topleft)\n",
        "plot!(dat.Year, q_nonstat[2, :], ribbon=(q_nonstat[2, :] - q_nonstat[1, :], q_nonstat[3, :] - q_nonstat[2, :]), color=:green, fillalpha=0.3, label=\"Nonstationary Model\")\n",
        "scatter!(dat.Year, dat.residual, label=\"Data\", color=:orange)\n",
        "xlabel!(\"Year\")\n",
        "ylabel!(\"Annual Extreme Gauge Level (mm)\")"
      ],
      "id": "cell-fig-pdo-hind"
    },
    {
      "cell_type": "markdown",
      "metadata": {},
      "source": [
        "We can see from <a href=\"#fig-pdo-hind\" class=\"quarto-xref\">Figure 6</a>\n",
        "that the nonstationary model seems to capture some of the lower extremes\n",
        "better, but neither model captures the very extreme values between 1980\n",
        "and 2010. In general, we might be able to say that the nonstationary\n",
        "model can be more flexible and account for variability in the data that\n",
        "might throw off the calibration of a stationary model, but that\n",
        "flexibility can be a blessing and a curse — if the covariate does not\n",
        "actually explain meaningful variability in the data, we might\n",
        "misinterpret the results or engage in overfitting. We could make the\n",
        "model even more flexible by making the scale and shape nonstationary,\n",
        "but that would exacerbate these risks."
      ],
      "id": "99e5fdf6-f669-4905-b304-4fc4aa07d99d"
    }
  ],
  "nbformat": 4,
  "nbformat_minor": 5,
  "metadata": {
    "kernelspec": {
      "name": "julia-1.9",
      "display_name": "Julia 1.9.4",
      "language": "julia"
    },
    "language_info": {
      "name": "julia",
      "file_extension": ".jl",
      "mimetype": "application/julia",
      "version": "1.9.4"
    }
  }
}